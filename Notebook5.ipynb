{
 "cells": [
  {
   "cell_type": "code",
   "execution_count": 1,
   "metadata": {
    "collapsed": true
   },
   "outputs": [],
   "source": [
    "import pandas as pd\n",
    "import numpy as np\n",
    "from sklearn.model_selection import train_test_split\n",
    "from sklearn.neighbors import KNeighborsClassifier\n",
    "from sklearn.preprocessing import OneHotEncoder"
   ]
  },
  {
   "cell_type": "code",
   "execution_count": 2,
   "metadata": {
    "collapsed": true
   },
   "outputs": [],
   "source": [
    "df = pd.read_csv('SCDB_Legacy_04_caseCentered_Citation.csv', encoding='ISO 8859-1', dtype='object')\n"
   ]
  },
  {
   "cell_type": "code",
   "execution_count": 3,
   "metadata": {
    "collapsed": true
   },
   "outputs": [],
   "source": [
    "df_20_century = df[df.term.astype(int) > 1920]"
   ]
  },
  {
   "cell_type": "code",
   "execution_count": 4,
   "metadata": {
    "collapsed": true
   },
   "outputs": [],
   "source": [
    "df_modern_train = pd.read_csv('case_train_mod.csv', encoding='ISO 8859-1', dtype='object') "
   ]
  },
  {
   "cell_type": "code",
   "execution_count": 5,
   "metadata": {
    "collapsed": true
   },
   "outputs": [],
   "source": [
    "df_train = pd.concat([df_20_century, df_modern_train])"
   ]
  },
  {
   "cell_type": "code",
   "execution_count": 6,
   "metadata": {
    "collapsed": true
   },
   "outputs": [],
   "source": [
    "df_train = df_train.iloc[:, 1:]"
   ]
  },
  {
   "cell_type": "code",
   "execution_count": 7,
   "metadata": {},
   "outputs": [
    {
     "data": {
      "text/html": [
       "<div>\n",
       "<style>\n",
       "    .dataframe thead tr:only-child th {\n",
       "        text-align: right;\n",
       "    }\n",
       "\n",
       "    .dataframe thead th {\n",
       "        text-align: left;\n",
       "    }\n",
       "\n",
       "    .dataframe tbody tr th {\n",
       "        vertical-align: top;\n",
       "    }\n",
       "</style>\n",
       "<table border=\"1\" class=\"dataframe\">\n",
       "  <thead>\n",
       "    <tr style=\"text-align: right;\">\n",
       "      <th></th>\n",
       "      <th>adminAction</th>\n",
       "      <th>adminActionState</th>\n",
       "      <th>authorityDecision1</th>\n",
       "      <th>authorityDecision2</th>\n",
       "      <th>caseDisposition</th>\n",
       "      <th>caseDispositionUnusual</th>\n",
       "      <th>caseId</th>\n",
       "      <th>caseIssuesId</th>\n",
       "      <th>caseName</th>\n",
       "      <th>caseOrigin</th>\n",
       "      <th>...</th>\n",
       "      <th>precedentAlteration</th>\n",
       "      <th>respondent</th>\n",
       "      <th>respondentState</th>\n",
       "      <th>sctCite</th>\n",
       "      <th>splitVote</th>\n",
       "      <th>term</th>\n",
       "      <th>threeJudgeFdc</th>\n",
       "      <th>usCite</th>\n",
       "      <th>voteId</th>\n",
       "      <th>voteUnclear</th>\n",
       "    </tr>\n",
       "  </thead>\n",
       "  <tbody>\n",
       "    <tr>\n",
       "      <th>15567</th>\n",
       "      <td>69</td>\n",
       "      <td>NaN</td>\n",
       "      <td>3</td>\n",
       "      <td>NaN</td>\n",
       "      <td>10</td>\n",
       "      <td>0</td>\n",
       "      <td>1921-001</td>\n",
       "      <td>1921-001-01-01</td>\n",
       "      <td>SMIETANKA, COLLECTOR OF INTERNAL REVENUE FOR T...</td>\n",
       "      <td>66</td>\n",
       "      <td>...</td>\n",
       "      <td>0</td>\n",
       "      <td>240</td>\n",
       "      <td>NaN</td>\n",
       "      <td>42 S. Ct. 1</td>\n",
       "      <td>1</td>\n",
       "      <td>1921</td>\n",
       "      <td>0</td>\n",
       "      <td>257 U.S. 1</td>\n",
       "      <td>1921-001-01-01-01</td>\n",
       "      <td>0</td>\n",
       "    </tr>\n",
       "    <tr>\n",
       "      <th>15568</th>\n",
       "      <td>NaN</td>\n",
       "      <td>NaN</td>\n",
       "      <td>3</td>\n",
       "      <td>NaN</td>\n",
       "      <td>9</td>\n",
       "      <td>0</td>\n",
       "      <td>1921-002</td>\n",
       "      <td>1921-002-01-01</td>\n",
       "      <td>Ex parte IN THE MATTER OF LINCOLN GAS &amp; ELECTR...</td>\n",
       "      <td>NaN</td>\n",
       "      <td>...</td>\n",
       "      <td>0</td>\n",
       "      <td>16</td>\n",
       "      <td>60</td>\n",
       "      <td>42 S. Ct. 2</td>\n",
       "      <td>1</td>\n",
       "      <td>1921</td>\n",
       "      <td>0</td>\n",
       "      <td>257 U.S. 6</td>\n",
       "      <td>1921-002-01-01-01</td>\n",
       "      <td>0</td>\n",
       "    </tr>\n",
       "    <tr>\n",
       "      <th>15569</th>\n",
       "      <td>NaN</td>\n",
       "      <td>NaN</td>\n",
       "      <td>4</td>\n",
       "      <td>NaN</td>\n",
       "      <td>3</td>\n",
       "      <td>0</td>\n",
       "      <td>1921-003</td>\n",
       "      <td>1921-003-01-01</td>\n",
       "      <td>YAZOO &amp; MISSISSIPPI VALLEY RAILROAD COMPANY et...</td>\n",
       "      <td>302</td>\n",
       "      <td>...</td>\n",
       "      <td>0</td>\n",
       "      <td>3</td>\n",
       "      <td>29</td>\n",
       "      <td>42 S. Ct. 27</td>\n",
       "      <td>1</td>\n",
       "      <td>1921</td>\n",
       "      <td>0</td>\n",
       "      <td>257 U.S. 10</td>\n",
       "      <td>1921-003-01-01-01</td>\n",
       "      <td>0</td>\n",
       "    </tr>\n",
       "    <tr>\n",
       "      <th>15570</th>\n",
       "      <td>94</td>\n",
       "      <td>NaN</td>\n",
       "      <td>3</td>\n",
       "      <td>NaN</td>\n",
       "      <td>3</td>\n",
       "      <td>0</td>\n",
       "      <td>1921-004</td>\n",
       "      <td>1921-004-01-01</td>\n",
       "      <td>HILDRETH v. MASTORAS</td>\n",
       "      <td>108</td>\n",
       "      <td>...</td>\n",
       "      <td>0</td>\n",
       "      <td>172</td>\n",
       "      <td>NaN</td>\n",
       "      <td>42 S. Ct. 20</td>\n",
       "      <td>1</td>\n",
       "      <td>1921</td>\n",
       "      <td>0</td>\n",
       "      <td>257 U.S. 27</td>\n",
       "      <td>1921-004-01-01-01</td>\n",
       "      <td>0</td>\n",
       "    </tr>\n",
       "    <tr>\n",
       "      <th>15571</th>\n",
       "      <td>NaN</td>\n",
       "      <td>NaN</td>\n",
       "      <td>4</td>\n",
       "      <td>NaN</td>\n",
       "      <td>4</td>\n",
       "      <td>0</td>\n",
       "      <td>1921-005</td>\n",
       "      <td>1921-005-01-01</td>\n",
       "      <td>UNITED STATES v. SACKS</td>\n",
       "      <td>96</td>\n",
       "      <td>...</td>\n",
       "      <td>0</td>\n",
       "      <td>100</td>\n",
       "      <td>NaN</td>\n",
       "      <td>42 S. Ct. 38</td>\n",
       "      <td>1</td>\n",
       "      <td>1921</td>\n",
       "      <td>0</td>\n",
       "      <td>257 U.S. 37</td>\n",
       "      <td>1921-005-01-01-01</td>\n",
       "      <td>0</td>\n",
       "    </tr>\n",
       "  </tbody>\n",
       "</table>\n",
       "<p>5 rows × 53 columns</p>\n",
       "</div>"
      ],
      "text/plain": [
       "      adminAction adminActionState authorityDecision1 authorityDecision2  \\\n",
       "15567          69              NaN                  3                NaN   \n",
       "15568         NaN              NaN                  3                NaN   \n",
       "15569         NaN              NaN                  4                NaN   \n",
       "15570          94              NaN                  3                NaN   \n",
       "15571         NaN              NaN                  4                NaN   \n",
       "\n",
       "      caseDisposition caseDispositionUnusual    caseId    caseIssuesId  \\\n",
       "15567              10                      0  1921-001  1921-001-01-01   \n",
       "15568               9                      0  1921-002  1921-002-01-01   \n",
       "15569               3                      0  1921-003  1921-003-01-01   \n",
       "15570               3                      0  1921-004  1921-004-01-01   \n",
       "15571               4                      0  1921-005  1921-005-01-01   \n",
       "\n",
       "                                                caseName caseOrigin  \\\n",
       "15567  SMIETANKA, COLLECTOR OF INTERNAL REVENUE FOR T...         66   \n",
       "15568  Ex parte IN THE MATTER OF LINCOLN GAS & ELECTR...        NaN   \n",
       "15569  YAZOO & MISSISSIPPI VALLEY RAILROAD COMPANY et...        302   \n",
       "15570                               HILDRETH v. MASTORAS        108   \n",
       "15571                             UNITED STATES v. SACKS         96   \n",
       "\n",
       "          ...     precedentAlteration respondent respondentState  \\\n",
       "15567     ...                       0        240             NaN   \n",
       "15568     ...                       0         16              60   \n",
       "15569     ...                       0          3              29   \n",
       "15570     ...                       0        172             NaN   \n",
       "15571     ...                       0        100             NaN   \n",
       "\n",
       "            sctCite splitVote  term threeJudgeFdc       usCite  \\\n",
       "15567   42 S. Ct. 1         1  1921             0   257 U.S. 1   \n",
       "15568   42 S. Ct. 2         1  1921             0   257 U.S. 6   \n",
       "15569  42 S. Ct. 27         1  1921             0  257 U.S. 10   \n",
       "15570  42 S. Ct. 20         1  1921             0  257 U.S. 27   \n",
       "15571  42 S. Ct. 38         1  1921             0  257 U.S. 37   \n",
       "\n",
       "                  voteId voteUnclear  \n",
       "15567  1921-001-01-01-01           0  \n",
       "15568  1921-002-01-01-01           0  \n",
       "15569  1921-003-01-01-01           0  \n",
       "15570  1921-004-01-01-01           0  \n",
       "15571  1921-005-01-01-01           0  \n",
       "\n",
       "[5 rows x 53 columns]"
      ]
     },
     "execution_count": 7,
     "metadata": {},
     "output_type": "execute_result"
    }
   ],
   "source": [
    "df_train.head()"
   ]
  },
  {
   "cell_type": "code",
   "execution_count": 8,
   "metadata": {
    "collapsed": true
   },
   "outputs": [],
   "source": [
    "df_train.to_csv(\"after1920_train.csv\")"
   ]
  },
  {
   "cell_type": "code",
   "execution_count": null,
   "metadata": {
    "collapsed": true
   },
   "outputs": [],
   "source": []
  }
 ],
 "metadata": {
  "kernelspec": {
   "display_name": "Python 3",
   "language": "python",
   "name": "python3"
  },
  "language_info": {
   "codemirror_mode": {
    "name": "ipython",
    "version": 3
   },
   "file_extension": ".py",
   "mimetype": "text/x-python",
   "name": "python",
   "nbconvert_exporter": "python",
   "pygments_lexer": "ipython3",
   "version": "3.6.1"
  }
 },
 "nbformat": 4,
 "nbformat_minor": 2
}
