{
 "cells": [
  {
   "cell_type": "code",
   "execution_count": 1,
   "metadata": {
    "collapsed": true
   },
   "outputs": [],
   "source": [
    "import pandas as pd\n",
    "import numpy as np\n",
    "from sklearn.model_selection import train_test_split\n",
    "from sklearn.neighbors import KNeighborsClassifier\n",
    "from sklearn.preprocessing import OneHotEncoder"
   ]
  },
  {
   "cell_type": "code",
   "execution_count": 2,
   "metadata": {
    "collapsed": true
   },
   "outputs": [],
   "source": [
    "df = pd.read_csv('justice_level_train_set.csv', encoding='ISO 8859-1', dtype='object', index_col=0)"
   ]
  },
  {
   "cell_type": "code",
   "execution_count": 3,
   "metadata": {
    "collapsed": true
   },
   "outputs": [],
   "source": [
    "drops = ['caseId', 'docketId', 'caseIssuesId', 'voteId', 'dateDecision',\n",
    "       'decisionType', 'usCite', 'sctCite', 'ledCite', 'lexisCite', 'term', 'chief', 'docket', 'caseName', 'dateArgument',\n",
    "       'dateRearg', 'petitioner', 'petitionerState', 'respondent',\n",
    "       'respondentState', 'jurisdiction', 'adminAction', 'adminActionState',\n",
    "       'threeJudgeFdc', 'caseOrigin', 'caseOriginState', 'caseSource',\n",
    "       'caseSourceState', 'lcDisagreement', 'certReason', 'lcDisposition',\n",
    "       'lcDispositionDirection', 'declarationUncon', 'caseDisposition',\n",
    "       'caseDispositionUnusual', 'partyWinning', 'precedentAlteration',\n",
    "       'voteUnclear', 'issue', 'issueArea', 'decisionDirection',\n",
    "       'decisionDirectionDissent', 'authorityDecision1', 'authorityDecision2',\n",
    "       'lawType', 'lawSupp', 'lawMinor', 'majOpinWriter', 'majOpinAssigner',\n",
    "       'splitVote', 'majVotes', 'minVotes', 'justiceName', 'vote',\n",
    "       'opinion', 'direction', 'majority', 'firstAgreement',\n",
    "       'secondAgreement']"
   ]
  },
  {
   "cell_type": "code",
   "execution_count": 4,
   "metadata": {
    "collapsed": true
   },
   "outputs": [],
   "source": [
    "df.drop(drops, axis=1, inplace=True)"
   ]
  },
  {
   "cell_type": "code",
   "execution_count": 5,
   "metadata": {},
   "outputs": [
    {
     "data": {
      "text/plain": [
       "(63081, 2)"
      ]
     },
     "execution_count": 5,
     "metadata": {},
     "output_type": "execute_result"
    }
   ],
   "source": [
    "df.shape"
   ]
  },
  {
   "cell_type": "code",
   "execution_count": 6,
   "metadata": {},
   "outputs": [
    {
     "data": {
      "text/plain": [
       "Index(['naturalCourt', 'justice'], dtype='object')"
      ]
     },
     "execution_count": 6,
     "metadata": {},
     "output_type": "execute_result"
    }
   ],
   "source": [
    "df.columns"
   ]
  },
  {
   "cell_type": "code",
   "execution_count": 7,
   "metadata": {
    "collapsed": true
   },
   "outputs": [],
   "source": [
    "court = df.sort_values(['naturalCourt', 'justice'])"
   ]
  },
  {
   "cell_type": "code",
   "execution_count": 8,
   "metadata": {
    "collapsed": true
   },
   "outputs": [],
   "source": [
    "courtdict = {}\n",
    "for nc in court['naturalCourt'].unique():\n",
    "    courtdict[nc] = [x for x in (court.loc[court['naturalCourt'] == nc, :]['justice'].unique())]"
   ]
  },
  {
   "cell_type": "code",
   "execution_count": 9,
   "metadata": {},
   "outputs": [
    {
     "name": "stdout",
     "output_type": "stream",
     "text": [
      "1301 9\n",
      "1303 9\n",
      "1401 9\n",
      "1402 8\n",
      "1403 9\n",
      "1404 9\n",
      "1405 9\n",
      "1406 9\n",
      "1407 9\n",
      "1408 9\n",
      "1409 9\n",
      "1410 9\n",
      "1411 8\n",
      "1501 8\n",
      "1502 9\n",
      "1503 7\n",
      "1504 9\n",
      "1505 8\n",
      "1506 9\n",
      "1507 9\n",
      "1601 9\n",
      "1602 8\n",
      "1603 9\n",
      "1604 9\n",
      "1605 9\n",
      "1606 9\n",
      "1607 9\n",
      "1701 9\n",
      "1702 9\n",
      "1703 9\n",
      "1704 9\n",
      "1705 8\n",
      "1706 9\n"
     ]
    }
   ],
   "source": [
    "for k, v in courtdict.items():\n",
    "    print(k, len(v))"
   ]
  },
  {
   "cell_type": "code",
   "execution_count": 11,
   "metadata": {
    "collapsed": true
   },
   "outputs": [],
   "source": [
    "Court_Judge_frame = pd.DataFrame.from_dict(data=courtdict, orient='index')\n",
    "Court_Judge_frame.columns = ['judge' + str(x) for x in range(1,10)]\n",
    "Court_Judge_frame.to_csv('natcourt_judge.csv')"
   ]
  },
  {
   "cell_type": "code",
   "execution_count": null,
   "metadata": {
    "collapsed": true
   },
   "outputs": [],
   "source": []
  },
  {
   "cell_type": "code",
   "execution_count": null,
   "metadata": {
    "collapsed": true
   },
   "outputs": [],
   "source": []
  }
 ],
 "metadata": {
  "kernelspec": {
   "display_name": "Python 3",
   "language": "python",
   "name": "python3"
  },
  "language_info": {
   "codemirror_mode": {
    "name": "ipython",
    "version": 3
   },
   "file_extension": ".py",
   "mimetype": "text/x-python",
   "name": "python",
   "nbconvert_exporter": "python",
   "pygments_lexer": "ipython3",
   "version": "3.6.1"
  }
 },
 "nbformat": 4,
 "nbformat_minor": 2
}
