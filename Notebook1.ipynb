{
 "cells": [
  {
   "cell_type": "code",
   "execution_count": 1,
   "metadata": {
    "collapsed": true
   },
   "outputs": [],
   "source": [
    "import pandas as pd\n",
    "import numpy as np\n",
    "from sklearn.model_selection import train_test_split\n",
    "from sklearn.neighbors import KNeighborsClassifier\n",
    "from sklearn.preprocessing import OneHotEncoder"
   ]
  },
  {
   "cell_type": "code",
   "execution_count": 2,
   "metadata": {
    "collapsed": true
   },
   "outputs": [],
   "source": [
    "judge_df = pd.read_csv('SCDB_2017_01_justiceCentered_Citation.csv', encoding='ISO 8859-1', dtype='object')"
   ]
  },
  {
   "cell_type": "code",
   "execution_count": 3,
   "metadata": {
    "collapsed": true
   },
   "outputs": [],
   "source": [
    "case_df = pd.read_csv('SCDB_2017_01_caseCentered_Citation.csv', encoding='ISO 8859-1', dtype='object')"
   ]
  },
  {
   "cell_type": "code",
   "execution_count": 4,
   "metadata": {
    "collapsed": true
   },
   "outputs": [],
   "source": [
    "targets = ['declarationUncon', 'caseDisposition',\n",
    "       'caseDispositionUnusual', 'partyWinning', 'precedentAlteration',\n",
    "       'voteUnclear','decisionDirection',\n",
    "       'decisionDirectionDissent', 'authorityDecision1', 'authorityDecision2',\n",
    "       'lawType', 'lawSupp', 'lawMinor', 'majOpinWriter', 'majOpinAssigner',\n",
    "       'splitVote', 'majVotes', 'minVotes']"
   ]
  },
  {
   "cell_type": "code",
   "execution_count": 5,
   "metadata": {
    "collapsed": true
   },
   "outputs": [],
   "source": [
    "y_case = case_df[targets]\n",
    "X_case = case_df[[col for col in case_df.columns if col not in targets]]"
   ]
  },
  {
   "cell_type": "code",
   "execution_count": 6,
   "metadata": {},
   "outputs": [
    {
     "name": "stdout",
     "output_type": "stream",
     "text": [
      "(8809, 35) (8809, 18)\n"
     ]
    }
   ],
   "source": [
    "print(X_case.shape, y_case.shape)"
   ]
  },
  {
   "cell_type": "code",
   "execution_count": 7,
   "metadata": {
    "collapsed": true
   },
   "outputs": [],
   "source": [
    "## train-test split on case level modern dataset\n",
    "\n",
    "X_case_train, X_case_test, y_case_train, y_case_test = train_test_split(X_case, y_case, test_size=.2, random_state=2017)\n",
    "\n",
    "## pulling out the case identification numbers that identify the case in each of test and train\n",
    "## unique should not zzz\n",
    "train_caseIds = X_case_train['caseId'].unique()\n",
    "test_caseIds = X_case_test['caseId'].unique()\n",
    "\n",
    "##\n",
    "judge_df_train = judge_df[judge_df.caseId.isin(train_caseIds)]\n",
    "judge_df_test = judge_df[judge_df.caseId.isin(test_caseIds)]\n",
    "\n",
    "judge_df_train.to_csv('justice_train_mod.csv')\n",
    "judge_df_test.to_csv('justice_test_mod.csv')\n",
    "\n",
    "case_df_train = case_df[case_df.caseId.isin(train_caseIds)]\n",
    "case_df_test = case_df[case_df.caseId.isin(test_caseIds)]\n",
    "\n",
    "case_df_train.to_csv('case_train_mod.csv')\n",
    "case_df_test.to_csv('case_test_mod.csv')"
   ]
  },
  {
   "cell_type": "code",
   "execution_count": null,
   "metadata": {
    "collapsed": true
   },
   "outputs": [],
   "source": []
  }
 ],
 "metadata": {
  "kernelspec": {
   "display_name": "Python 3",
   "language": "python",
   "name": "python3"
  },
  "language_info": {
   "codemirror_mode": {
    "name": "ipython",
    "version": 3
   },
   "file_extension": ".py",
   "mimetype": "text/x-python",
   "name": "python",
   "nbconvert_exporter": "python",
   "pygments_lexer": "ipython3",
   "version": "3.6.1"
  }
 },
 "nbformat": 4,
 "nbformat_minor": 2
}
