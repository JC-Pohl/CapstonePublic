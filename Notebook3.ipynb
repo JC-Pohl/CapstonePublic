{
 "cells": [
  {
   "cell_type": "code",
   "execution_count": 40,
   "metadata": {
    "collapsed": true
   },
   "outputs": [],
   "source": [
    "import pandas as pd\n",
    "import numpy as np\n",
    "from sklearn.model_selection import train_test_split, GridSearchCV, cross_val_score\n",
    "from sklearn.neighbors import KNeighborsClassifier\n",
    "from sklearn.preprocessing import OneHotEncoder\n",
    "from sklearn.ensemble import RandomForestClassifier, AdaBoostClassifier, GradientBoostingClassifier\n",
    "from sklearn.linear_model import LogisticRegression"
   ]
  },
  {
   "cell_type": "code",
   "execution_count": 41,
   "metadata": {
    "collapsed": true
   },
   "outputs": [],
   "source": [
    "df_train = pd.read_csv('after1900_train.csv', encoding='ISO 8859-1', dtype='object', index_col=0)"
   ]
  },
  {
   "cell_type": "code",
   "execution_count": 42,
   "metadata": {},
   "outputs": [
    {
     "data": {
      "text/plain": [
       "Index(['adminAction', 'adminActionState', 'authorityDecision1',\n",
       "       'authorityDecision2', 'caseDisposition', 'caseDispositionUnusual',\n",
       "       'caseId', 'caseIssuesId', 'caseName', 'caseOrigin', 'caseOriginState',\n",
       "       'caseSource', 'caseSourceState', 'certReason', 'chief', 'dateArgument',\n",
       "       'dateDecision', 'dateRearg', 'decisionDirection',\n",
       "       'decisionDirectionDissent', 'decisionType', 'declarationUncon',\n",
       "       'docket', 'docketId', 'issue', 'issueArea', 'jurisdiction', 'lawMinor',\n",
       "       'lawSupp', 'lawType', 'lcDisagreement', 'lcDisposition',\n",
       "       'lcDispositionDirection', 'ledCite', 'lexisCite', 'majOpinAssigner',\n",
       "       'majOpinWriter', 'majVotes', 'minVotes', 'naturalCourt', 'partyWinning',\n",
       "       'petitioner', 'petitionerState', 'precedentAlteration', 'respondent',\n",
       "       'respondentState', 'sctCite', 'splitVote', 'term', 'threeJudgeFdc',\n",
       "       'usCite', 'voteId', 'voteUnclear'],\n",
       "      dtype='object')"
      ]
     },
     "execution_count": 42,
     "metadata": {},
     "output_type": "execute_result"
    }
   ],
   "source": [
    "df_train.columns"
   ]
  },
  {
   "cell_type": "code",
   "execution_count": 43,
   "metadata": {
    "collapsed": true
   },
   "outputs": [],
   "source": [
    "dropcols = ['caseId', 'docketId', 'caseIssuesId', 'voteId', 'dateDecision',\n",
    "       'decisionType', 'usCite', 'sctCite', 'ledCite', 'lexisCite', 'term',\n",
    "            'chief', 'docket', 'caseName', 'dateArgument',\n",
    "       'dateRearg', 'petitionerState',\n",
    "       'respondentState', 'jurisdiction', 'adminAction', 'adminActionState',\n",
    "       'threeJudgeFdc', 'caseOriginState',\n",
    "       'caseSourceState', 'lcDisagreement', 'certReason', 'lcDisposition',\n",
    "        'declarationUncon', 'caseDisposition',\n",
    "       'caseDispositionUnusual', 'partyWinning', 'precedentAlteration',\n",
    "       'voteUnclear', 'issue',\n",
    "       'decisionDirectionDissent', 'authorityDecision1', 'authorityDecision2',\n",
    "       'lawType', 'lawSupp', 'lawMinor', 'majOpinWriter', 'majOpinAssigner',\n",
    "       'splitVote', 'majVotes', 'minVotes']\n",
    "\n",
    "for col in dropcols:\n",
    "    df_train.drop(col, axis=1, inplace=True)\n",
    "\n",
    "\n"
   ]
  },
  {
   "cell_type": "code",
   "execution_count": 44,
   "metadata": {
    "collapsed": true
   },
   "outputs": [],
   "source": [
    "df_train = df_train[df_train.decisionDirection != '3']\n",
    "df_train.dropna(axis=0, inplace=True)\n"
   ]
  },
  {
   "cell_type": "code",
   "execution_count": 45,
   "metadata": {},
   "outputs": [
    {
     "data": {
      "text/html": [
       "<div>\n",
       "<style>\n",
       "    .dataframe thead tr:only-child th {\n",
       "        text-align: right;\n",
       "    }\n",
       "\n",
       "    .dataframe thead th {\n",
       "        text-align: left;\n",
       "    }\n",
       "\n",
       "    .dataframe tbody tr th {\n",
       "        vertical-align: top;\n",
       "    }\n",
       "</style>\n",
       "<table border=\"1\" class=\"dataframe\">\n",
       "  <thead>\n",
       "    <tr style=\"text-align: right;\">\n",
       "      <th></th>\n",
       "      <th>caseOrigin</th>\n",
       "      <th>caseSource</th>\n",
       "      <th>decisionDirection</th>\n",
       "      <th>issueArea</th>\n",
       "      <th>lcDispositionDirection</th>\n",
       "      <th>naturalCourt</th>\n",
       "      <th>petitioner</th>\n",
       "      <th>respondent</th>\n",
       "    </tr>\n",
       "  </thead>\n",
       "  <tbody>\n",
       "    <tr>\n",
       "      <th>count</th>\n",
       "      <td>10506</td>\n",
       "      <td>10506</td>\n",
       "      <td>10506</td>\n",
       "      <td>10506</td>\n",
       "      <td>10506</td>\n",
       "      <td>10506</td>\n",
       "      <td>10506</td>\n",
       "      <td>10506</td>\n",
       "    </tr>\n",
       "    <tr>\n",
       "      <th>unique</th>\n",
       "      <td>133</td>\n",
       "      <td>115</td>\n",
       "      <td>2</td>\n",
       "      <td>13</td>\n",
       "      <td>3</td>\n",
       "      <td>48</td>\n",
       "      <td>264</td>\n",
       "      <td>249</td>\n",
       "    </tr>\n",
       "    <tr>\n",
       "      <th>top</th>\n",
       "      <td>302</td>\n",
       "      <td>300</td>\n",
       "      <td>2</td>\n",
       "      <td>8</td>\n",
       "      <td>1</td>\n",
       "      <td>1103</td>\n",
       "      <td>27</td>\n",
       "      <td>27</td>\n",
       "    </tr>\n",
       "    <tr>\n",
       "      <th>freq</th>\n",
       "      <td>2314</td>\n",
       "      <td>2075</td>\n",
       "      <td>5617</td>\n",
       "      <td>3011</td>\n",
       "      <td>5638</td>\n",
       "      <td>812</td>\n",
       "      <td>986</td>\n",
       "      <td>1354</td>\n",
       "    </tr>\n",
       "  </tbody>\n",
       "</table>\n",
       "</div>"
      ],
      "text/plain": [
       "       caseOrigin caseSource decisionDirection issueArea  \\\n",
       "count       10506      10506             10506     10506   \n",
       "unique        133        115                 2        13   \n",
       "top           302        300                 2         8   \n",
       "freq         2314       2075              5617      3011   \n",
       "\n",
       "       lcDispositionDirection naturalCourt petitioner respondent  \n",
       "count                   10506        10506      10506      10506  \n",
       "unique                      3           48        264        249  \n",
       "top                         1         1103         27         27  \n",
       "freq                     5638          812        986       1354  "
      ]
     },
     "execution_count": 45,
     "metadata": {},
     "output_type": "execute_result"
    }
   ],
   "source": [
    "df_train.describe()"
   ]
  },
  {
   "cell_type": "code",
   "execution_count": 46,
   "metadata": {
    "collapsed": true
   },
   "outputs": [],
   "source": [
    "target = 'decisionDirection'\n",
    "y_train = df_train[target]\n",
    "X_train = df_train[[col for col in df_train.columns if col != target]]"
   ]
  },
  {
   "cell_type": "code",
   "execution_count": 47,
   "metadata": {
    "collapsed": true
   },
   "outputs": [],
   "source": [
    "parties = pd.read_csv(\"codelist.csv\", index_col=None)\n",
    "def party_categorizer(val):\n",
    "    if val in parties.State.values:\n",
    "        return '1'\n",
    "    elif val in parties.Federal.values:\n",
    "        return '2'\n",
    "    elif val in parties.Criminal.values:\n",
    "        return '3'\n",
    "    elif val in parties.Liberal.values:\n",
    "        return '4'\n",
    "    elif val in parties.RTY.values:\n",
    "        return '5'\n",
    "    elif val in parties.Finance.values:\n",
    "        return '6'\n",
    "    elif val in parties.Business.values:\n",
    "        return '7'\n",
    "    elif val in parties.Political.values:\n",
    "        return '8'\n",
    "    elif val in parties.famend.values:\n",
    "        return '9'\n",
    "    else:\n",
    "        return '10'\n",
    " \n",
    "\n",
    "def issue_consolidate(num):\n",
    "    if num == \"None\":\n",
    "        return '13'\n",
    "    if int(num) in [0, 3, 5, 6, 7, 11, 14]:\n",
    "        return '13'\n",
    "    else:\n",
    "        return str(num)"
   ]
  },
  {
   "cell_type": "code",
   "execution_count": 48,
   "metadata": {},
   "outputs": [
    {
     "name": "stderr",
     "output_type": "stream",
     "text": [
      "/Users/joshuapohl/anaconda/lib/python3.6/site-packages/pandas/core/generic.py:2999: SettingWithCopyWarning: \n",
      "A value is trying to be set on a copy of a slice from a DataFrame.\n",
      "Try using .loc[row_indexer,col_indexer] = value instead\n",
      "\n",
      "See the caveats in the documentation: http://pandas.pydata.org/pandas-docs/stable/indexing.html#indexing-view-versus-copy\n",
      "  self[name] = value\n"
     ]
    }
   ],
   "source": [
    "X_train.issueArea = X_train.issueArea.apply(lambda x: issue_consolidate(x))\n",
    "X_train.petitioner = X_train.petitioner.apply(lambda x: party_categorizer(int(x)))                                  \n",
    "X_train.respondent = X_train.respondent.apply(lambda x: party_categorizer(int(x)))\n",
    "X_train.caseSource = X_train.caseSource.apply(lambda x :'1' if x in ['300', '301', '301'] else '0')\n",
    "X_train.caseOrigin = X_train.caseOrigin.apply(lambda x :'1' if x in ['300', '301', '301'] else '0')"
   ]
  },
  {
   "cell_type": "code",
   "execution_count": 49,
   "metadata": {},
   "outputs": [
    {
     "name": "stderr",
     "output_type": "stream",
     "text": [
      "/Users/joshuapohl/anaconda/lib/python3.6/site-packages/pandas/core/generic.py:2999: SettingWithCopyWarning: \n",
      "A value is trying to be set on a copy of a slice from a DataFrame.\n",
      "Try using .loc[row_indexer,col_indexer] = value instead\n",
      "\n",
      "See the caveats in the documentation: http://pandas.pydata.org/pandas-docs/stable/indexing.html#indexing-view-versus-copy\n",
      "  self[name] = value\n"
     ]
    }
   ],
   "source": [
    "df_test = pd.read_csv('xcase_level_test_set_mod.csv', encoding='ISO 8859-1', dtype='object', index_col=0)\n",
    "for col in dropcols:\n",
    "    df_test.drop(col, axis=1, inplace=True) \n",
    "df_test = df_test[df_test.decisionDirection != '3']\n",
    "df_test.dropna(axis=0, inplace=True)\n",
    "y_test = df_test[target]\n",
    "X_test = df_test[[col for col in X_train.columns]]\n",
    "X_test.issueArea = X_test.issueArea.apply(lambda x: issue_consolidate(x))\n",
    "X_test.petitioner = X_test.petitioner.apply(lambda x: party_categorizer(int(x)))                                  \n",
    "X_test.respondent = X_test.respondent.apply(lambda x: party_categorizer(int(x)))\n",
    "X_test.caseSource = X_test.caseSource.apply(lambda x :'1' if x in ['300', '301', '301'] else '0')\n",
    "X_test.caseOrigin = X_test.caseOrigin.apply(lambda x :'1' if x in ['300', '301', '301'] else '0')"
   ]
  },
  {
   "cell_type": "code",
   "execution_count": 50,
   "metadata": {},
   "outputs": [
    {
     "data": {
      "text/html": [
       "<div>\n",
       "<style>\n",
       "    .dataframe thead tr:only-child th {\n",
       "        text-align: right;\n",
       "    }\n",
       "\n",
       "    .dataframe thead th {\n",
       "        text-align: left;\n",
       "    }\n",
       "\n",
       "    .dataframe tbody tr th {\n",
       "        vertical-align: top;\n",
       "    }\n",
       "</style>\n",
       "<table border=\"1\" class=\"dataframe\">\n",
       "  <thead>\n",
       "    <tr style=\"text-align: right;\">\n",
       "      <th></th>\n",
       "      <th>caseOrigin</th>\n",
       "      <th>caseSource</th>\n",
       "      <th>issueArea</th>\n",
       "      <th>lcDispositionDirection</th>\n",
       "      <th>naturalCourt</th>\n",
       "      <th>petitioner</th>\n",
       "      <th>respondent</th>\n",
       "    </tr>\n",
       "  </thead>\n",
       "  <tbody>\n",
       "    <tr>\n",
       "      <th>15569</th>\n",
       "      <td>0</td>\n",
       "      <td>1</td>\n",
       "      <td>8</td>\n",
       "      <td>2</td>\n",
       "      <td>1001</td>\n",
       "      <td>5</td>\n",
       "      <td>1</td>\n",
       "    </tr>\n",
       "    <tr>\n",
       "      <th>15570</th>\n",
       "      <td>0</td>\n",
       "      <td>0</td>\n",
       "      <td>8</td>\n",
       "      <td>2</td>\n",
       "      <td>1001</td>\n",
       "      <td>7</td>\n",
       "      <td>7</td>\n",
       "    </tr>\n",
       "    <tr>\n",
       "      <th>15571</th>\n",
       "      <td>0</td>\n",
       "      <td>0</td>\n",
       "      <td>1</td>\n",
       "      <td>2</td>\n",
       "      <td>1001</td>\n",
       "      <td>2</td>\n",
       "      <td>3</td>\n",
       "    </tr>\n",
       "    <tr>\n",
       "      <th>15572</th>\n",
       "      <td>0</td>\n",
       "      <td>0</td>\n",
       "      <td>1</td>\n",
       "      <td>2</td>\n",
       "      <td>1001</td>\n",
       "      <td>2</td>\n",
       "      <td>3</td>\n",
       "    </tr>\n",
       "    <tr>\n",
       "      <th>15573</th>\n",
       "      <td>0</td>\n",
       "      <td>0</td>\n",
       "      <td>10</td>\n",
       "      <td>2</td>\n",
       "      <td>1001</td>\n",
       "      <td>5</td>\n",
       "      <td>2</td>\n",
       "    </tr>\n",
       "  </tbody>\n",
       "</table>\n",
       "</div>"
      ],
      "text/plain": [
       "      caseOrigin caseSource issueArea lcDispositionDirection naturalCourt  \\\n",
       "15569          0          1         8                      2         1001   \n",
       "15570          0          0         8                      2         1001   \n",
       "15571          0          0         1                      2         1001   \n",
       "15572          0          0         1                      2         1001   \n",
       "15573          0          0        10                      2         1001   \n",
       "\n",
       "      petitioner respondent  \n",
       "15569          5          1  \n",
       "15570          7          7  \n",
       "15571          2          3  \n",
       "15572          2          3  \n",
       "15573          5          2  "
      ]
     },
     "execution_count": 50,
     "metadata": {},
     "output_type": "execute_result"
    }
   ],
   "source": [
    "X_train.head()"
   ]
  },
  {
   "cell_type": "code",
   "execution_count": 51,
   "metadata": {
    "collapsed": true
   },
   "outputs": [],
   "source": [
    "judges = pd.read_csv('xjustice_level_train_set.csv', encoding='ISO 8859-1', dtype='object', index_col=0)\n",
    "judges = judges[['naturalCourt', 'justice']]\n",
    "courtdict = {}\n",
    "for nc in judges['naturalCourt'].unique():\n",
    "    courtdict[nc] = [x for x in (judges.loc[judges['naturalCourt'] == nc, :]['justice'].unique())]\n",
    "\n",
    "def justices(key):\n",
    "    return courtdict[key]\n",
    "\n",
    "# X_train['judgeList'] = X_train.naturalCourt.apply(justices)\n",
    "# X_test['judgeList'] = X_test.naturalCourt.apply(justices)\n",
    "\n",
    "# justice_list = judges.justice.unique()\n",
    "\n",
    "# for item in justice_list:\n",
    "#     X_train[item] = X_train.judgeList.apply(lambda x: '1' if item in x else '0')\n",
    "#     X_test[item] = X_test.judgeList.apply(lambda x: '1' if item in x else '0')\n",
    "    \n",
    "# X_train.drop(['naturalCourt', 'judgeList'], axis=1, inplace=True)\n",
    "# X_test.drop(['naturalCourt', 'judgeList'], axis=1, inplace=True)"
   ]
  },
  {
   "cell_type": "code",
   "execution_count": 52,
   "metadata": {
    "collapsed": true
   },
   "outputs": [],
   "source": [
    "X_train['judgeList'] = X_train.naturalCourt.apply(justices)"
   ]
  },
  {
   "cell_type": "code",
   "execution_count": 53,
   "metadata": {
    "collapsed": true
   },
   "outputs": [],
   "source": [
    "X_test['judgeList'] = X_test.naturalCourt.apply(justices)"
   ]
  },
  {
   "cell_type": "code",
   "execution_count": 54,
   "metadata": {
    "collapsed": true
   },
   "outputs": [],
   "source": [
    "justice_list = judges.justice.unique()"
   ]
  },
  {
   "cell_type": "code",
   "execution_count": 55,
   "metadata": {
    "collapsed": true
   },
   "outputs": [],
   "source": [
    "for item in justice_list:\n",
    "    X_train[item] = X_train.judgeList.apply(lambda x: '1' if item in x else '0')\n",
    "    X_test[item] = X_test.judgeList.apply(lambda x: '1' if item in x else '0')"
   ]
  },
  {
   "cell_type": "code",
   "execution_count": 56,
   "metadata": {
    "collapsed": true
   },
   "outputs": [],
   "source": [
    "    \n",
    "X_train.drop(['naturalCourt', 'judgeList'], axis=1, inplace=True)\n",
    "X_test.drop(['naturalCourt', 'judgeList'], axis=1, inplace=True)"
   ]
  },
  {
   "cell_type": "code",
   "execution_count": 57,
   "metadata": {
    "collapsed": true
   },
   "outputs": [],
   "source": [
    "goodcols = [x for x in X_train.describe().iloc[1, :][X_train.describe().iloc[1, :] != 1].index]\n",
    "\n",
    "ohc = OneHotEncoder(sparse=False)\n",
    "ohc.fit(X_train[goodcols])\n",
    "X_train = ohc.transform(X_train[goodcols])\n",
    "X_test = ohc.transform(X_test[goodcols])"
   ]
  },
  {
   "cell_type": "code",
   "execution_count": 58,
   "metadata": {},
   "outputs": [
    {
     "data": {
      "text/plain": [
       "1502358"
      ]
     },
     "execution_count": 58,
     "metadata": {},
     "output_type": "execute_result"
    }
   ],
   "source": [
    "X_train.size"
   ]
  },
  {
   "cell_type": "code",
   "execution_count": 60,
   "metadata": {},
   "outputs": [
    {
     "name": "stdout",
     "output_type": "stream",
     "text": [
      "best score  0.475442604226\n",
      "best params  {'max_depth': 6, 'max_features': None, 'n_estimators': 125}\n",
      "test score  0.641055718475\n"
     ]
    }
   ],
   "source": [
    "gbcl = GradientBoostingClassifier() ## using max featrues can limit features sort of like a Forest\n",
    "gbcl_params = {\n",
    "    \"n_estimators\": [125],\n",
    "    \"max_depth\": range(4, 9),\n",
    "    'max_features': [None]\n",
    "}\n",
    "gbcl_model = GridSearchCV(gbcl, param_grid=gbcl_params)\n",
    "gbcl_model.fit(X_train, y_train)\n",
    "print(\"best score \", gbcl_model.best_score_)\n",
    "print(\"best params \", gbcl_model.best_params_)\n",
    "print(\"test score \", gbcl_model.score(X_test, y_test))"
   ]
  },
  {
   "cell_type": "code",
   "execution_count": 578,
   "metadata": {
    "collapsed": true
   },
   "outputs": [],
   "source": [
    "gsrfe = GridSearchCV(RandomForestClassifier(random_state=2017), param_grid=rfc_params, verbose=1, n_jobs=2)"
   ]
  },
  {
   "cell_type": "code",
   "execution_count": 579,
   "metadata": {},
   "outputs": [
    {
     "name": "stdout",
     "output_type": "stream",
     "text": [
      "Fitting 3 folds for each of 27 candidates, totalling 81 fits\n"
     ]
    },
    {
     "name": "stderr",
     "output_type": "stream",
     "text": [
      "[Parallel(n_jobs=2)]: Done  46 tasks      | elapsed:   30.1s\n",
      "[Parallel(n_jobs=2)]: Done  81 out of  81 | elapsed:   49.5s finished\n"
     ]
    },
    {
     "data": {
      "text/plain": [
       "GridSearchCV(cv=None, error_score='raise',\n",
       "       estimator=RandomForestClassifier(bootstrap=True, class_weight=None, criterion='gini',\n",
       "            max_depth=None, max_features='auto', max_leaf_nodes=None,\n",
       "            min_impurity_split=1e-07, min_samples_leaf=1,\n",
       "            min_samples_split=2, min_weight_fraction_leaf=0.0,\n",
       "            n_estimators=10, n_jobs=1, oob_score=False, random_state=2017,\n",
       "            verbose=0, warm_start=False),\n",
       "       fit_params={}, iid=True, n_jobs=2,\n",
       "       param_grid={'n_estimators': [100, 125, 150], 'criterion': ['gini'], 'min_samples_split': [2, 3, 4], 'min_samples_leaf': [1, 2, 3]},\n",
       "       pre_dispatch='2*n_jobs', refit=True, return_train_score=True,\n",
       "       scoring=None, verbose=1)"
      ]
     },
     "execution_count": 579,
     "metadata": {},
     "output_type": "execute_result"
    }
   ],
   "source": [
    "gsrfe.fit(X_train, y_train)"
   ]
  },
  {
   "cell_type": "code",
   "execution_count": 580,
   "metadata": {},
   "outputs": [
    {
     "data": {
      "text/plain": [
       "RandomForestClassifier(bootstrap=True, class_weight=None, criterion='gini',\n",
       "            max_depth=None, max_features='auto', max_leaf_nodes=None,\n",
       "            min_impurity_split=1e-07, min_samples_leaf=1,\n",
       "            min_samples_split=2, min_weight_fraction_leaf=0.0,\n",
       "            n_estimators=125, n_jobs=1, oob_score=False, random_state=2017,\n",
       "            verbose=0, warm_start=False)"
      ]
     },
     "execution_count": 580,
     "metadata": {},
     "output_type": "execute_result"
    }
   ],
   "source": [
    "gsrfe.best_estimator_"
   ]
  },
  {
   "cell_type": "code",
   "execution_count": 581,
   "metadata": {},
   "outputs": [
    {
     "data": {
      "text/plain": [
       "0.43423423423423424"
      ]
     },
     "execution_count": 581,
     "metadata": {},
     "output_type": "execute_result"
    }
   ],
   "source": [
    "gsrfe.best_score_"
   ]
  },
  {
   "cell_type": "code",
   "execution_count": 582,
   "metadata": {},
   "outputs": [
    {
     "data": {
      "text/plain": [
       "0.62287390029325518"
      ]
     },
     "execution_count": 582,
     "metadata": {},
     "output_type": "execute_result"
    }
   ],
   "source": [
    "gsrfe.score(X_test, y_test)"
   ]
  },
  {
   "cell_type": "code",
   "execution_count": 583,
   "metadata": {},
   "outputs": [
    {
     "data": {
      "text/plain": [
       "{'criterion': 'gini',\n",
       " 'min_samples_leaf': 1,\n",
       " 'min_samples_split': 2,\n",
       " 'n_estimators': 125}"
      ]
     },
     "execution_count": 583,
     "metadata": {},
     "output_type": "execute_result"
    }
   ],
   "source": [
    "gsrfe.best_params_"
   ]
  },
  {
   "cell_type": "code",
   "execution_count": 584,
   "metadata": {
    "collapsed": true
   },
   "outputs": [],
   "source": [
    "Model = RandomForestClassifier(n_estimators=150, criterion='gini', min_samples_leaf=2, min_samples_split=3,\n",
    "                              random_state=2017)"
   ]
  },
  {
   "cell_type": "code",
   "execution_count": 585,
   "metadata": {},
   "outputs": [
    {
     "data": {
      "text/plain": [
       "RandomForestClassifier(bootstrap=True, class_weight=None, criterion='gini',\n",
       "            max_depth=None, max_features='auto', max_leaf_nodes=None,\n",
       "            min_impurity_split=1e-07, min_samples_leaf=2,\n",
       "            min_samples_split=3, min_weight_fraction_leaf=0.0,\n",
       "            n_estimators=150, n_jobs=1, oob_score=False, random_state=2017,\n",
       "            verbose=0, warm_start=False)"
      ]
     },
     "execution_count": 585,
     "metadata": {},
     "output_type": "execute_result"
    }
   ],
   "source": [
    "Model.fit(X_train, y_train)"
   ]
  },
  {
   "cell_type": "code",
   "execution_count": 586,
   "metadata": {},
   "outputs": [
    {
     "data": {
      "text/plain": [
       "0.77759009009009006"
      ]
     },
     "execution_count": 586,
     "metadata": {},
     "output_type": "execute_result"
    }
   ],
   "source": [
    "Model.score(X_train, y_train)"
   ]
  },
  {
   "cell_type": "code",
   "execution_count": 587,
   "metadata": {},
   "outputs": [
    {
     "data": {
      "text/plain": [
       "0.64868035190615836"
      ]
     },
     "execution_count": 587,
     "metadata": {},
     "output_type": "execute_result"
    }
   ],
   "source": [
    "Model.score(X_test, y_test)"
   ]
  },
  {
   "cell_type": "code",
   "execution_count": null,
   "metadata": {
    "collapsed": true
   },
   "outputs": [],
   "source": []
  },
  {
   "cell_type": "code",
   "execution_count": null,
   "metadata": {
    "collapsed": true
   },
   "outputs": [],
   "source": []
  },
  {
   "cell_type": "code",
   "execution_count": null,
   "metadata": {
    "collapsed": true
   },
   "outputs": [],
   "source": []
  }
 ],
 "metadata": {
  "kernelspec": {
   "display_name": "Python 3",
   "language": "python",
   "name": "python3"
  },
  "language_info": {
   "codemirror_mode": {
    "name": "ipython",
    "version": 3
   },
   "file_extension": ".py",
   "mimetype": "text/x-python",
   "name": "python",
   "nbconvert_exporter": "python",
   "pygments_lexer": "ipython3",
   "version": "3.6.1"
  }
 },
 "nbformat": 4,
 "nbformat_minor": 2
}
