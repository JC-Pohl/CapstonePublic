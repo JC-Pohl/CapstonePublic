{
 "cells": [
  {
   "cell_type": "markdown",
   "metadata": {},
   "source": [
    "This notebook shows my attempts to use KNN and Logistic Regression as well and why I chose to use a Random Forest"
   ]
  },
  {
   "cell_type": "code",
   "execution_count": 120,
   "metadata": {
    "collapsed": true
   },
   "outputs": [],
   "source": [
    "import pandas as pd\n",
    "import numpy as np\n",
    "import matplotlib.pyplot as plt\n",
    "%matplotlib inline\n",
    "from sklearn.model_selection import train_test_split, cross_val_score, GridSearchCV\n",
    "from sklearn.linear_model import LogisticRegression\n",
    "from sklearn.preprocessing import StandardScaler\n",
    "from sklearn.neighbors import KNeighborsClassifier\n",
    "from sklearn.ensemble import RandomForestClassifier"
   ]
  },
  {
   "cell_type": "code",
   "execution_count": 121,
   "metadata": {
    "collapsed": true
   },
   "outputs": [],
   "source": [
    "df = pd.read_csv('legacy_case.csv', encoding='ISO 8859-1', dtype=object)"
   ]
  },
  {
   "cell_type": "code",
   "execution_count": 122,
   "metadata": {
    "collapsed": true
   },
   "outputs": [],
   "source": [
    "df = df[df.decisionDirection != '3'] ## eliminate cases with no (political) direction"
   ]
  },
  {
   "cell_type": "code",
   "execution_count": 123,
   "metadata": {},
   "outputs": [
    {
     "name": "stdout",
     "output_type": "stream",
     "text": [
      "Index(['caseId', 'docketId', 'caseIssuesId', 'voteId', 'dateDecision',\n",
      "       'decisionType', 'usCite', 'sctCite', 'ledCite', 'lexisCite', 'term',\n",
      "       'naturalCourt', 'chief', 'docket', 'caseName', 'dateArgument',\n",
      "       'dateRearg', 'petitioner', 'petitionerState', 'respondent',\n",
      "       'respondentState', 'jurisdiction', 'adminAction', 'adminActionState',\n",
      "       'threeJudgeFdc', 'caseOrigin', 'caseOriginState', 'caseSource',\n",
      "       'caseSourceState', 'lcDisagreement', 'certReason', 'lcDisposition',\n",
      "       'lcDispositionDirection', 'declarationUncon', 'caseDisposition',\n",
      "       'caseDispositionUnusual', 'partyWinning', 'precedentAlteration',\n",
      "       'voteUnclear', 'issue', 'issueArea', 'decisionDirection',\n",
      "       'decisionDirectionDissent', 'authorityDecision1', 'authorityDecision2',\n",
      "       'lawType', 'lawSupp', 'lawMinor', 'majOpinWriter', 'majOpinAssigner',\n",
      "       'splitVote', 'majVotes', 'minVotes'],\n",
      "      dtype='object')\n"
     ]
    }
   ],
   "source": [
    "print(df.columns)"
   ]
  },
  {
   "cell_type": "code",
   "execution_count": 124,
   "metadata": {
    "collapsed": true
   },
   "outputs": [],
   "source": [
    "must_drop = ['caseId', 'docketId', 'caseIssuesId', 'voteId', 'dateDecision',\n",
    "       'decisionType', 'usCite', 'sctCite', 'ledCite', 'lexisCite',  'docket', 'caseName', 'dateArgument',\n",
    "       'dateRearg', 'declarationUncon', 'caseDisposition',\n",
    "       'caseDispositionUnusual', 'partyWinning', 'precedentAlteration',\n",
    "       'voteUnclear', 'issue', 'issueArea',\n",
    "       'decisionDirectionDissent', 'authorityDecision1', 'authorityDecision2',\n",
    "       'lawType', 'lawSupp', 'lawMinor', 'majOpinWriter', 'majOpinAssigner',\n",
    "       'splitVote', 'majVotes', 'minVotes']\n",
    "\n",
    "optional_drop = ['term', 'chief', 'petitionerState',\n",
    "       'respondentState', 'adminAction', 'adminActionState',\n",
    "       'threeJudgeFdc', 'caseOrigin', 'caseOriginState', 'caseSource',\n",
    "       'caseSourceState', 'lcDisagreement', 'certReason', 'lcDisposition']\n",
    "\n",
    "\n",
    "drop_columns = must_drop + optional_drop"
   ]
  },
  {
   "cell_type": "code",
   "execution_count": 125,
   "metadata": {
    "collapsed": true
   },
   "outputs": [],
   "source": [
    "df.drop(drop_columns, axis=1, inplace=True)"
   ]
  },
  {
   "cell_type": "code",
   "execution_count": 126,
   "metadata": {},
   "outputs": [
    {
     "data": {
      "text/plain": [
       "naturalCourt                0\n",
       "petitioner                  2\n",
       "respondent                  3\n",
       "jurisdiction                1\n",
       "lcDispositionDirection    716\n",
       "decisionDirection          55\n",
       "dtype: int64"
      ]
     },
     "execution_count": 126,
     "metadata": {},
     "output_type": "execute_result"
    }
   ],
   "source": [
    "df.isnull().sum()"
   ]
  },
  {
   "cell_type": "code",
   "execution_count": 127,
   "metadata": {
    "collapsed": true
   },
   "outputs": [],
   "source": [
    "df.dropna(axis=0, how='any', inplace=True)"
   ]
  },
  {
   "cell_type": "code",
   "execution_count": 128,
   "metadata": {
    "collapsed": true
   },
   "outputs": [],
   "source": [
    "target = 'decisionDirection'\n",
    "y = df[target]\n",
    "X = df[[col for col in df.columns if col != target]]"
   ]
  },
  {
   "cell_type": "code",
   "execution_count": 129,
   "metadata": {},
   "outputs": [
    {
     "name": "stderr",
     "output_type": "stream",
     "text": [
      "/Users/joshuapohl/anaconda/lib/python3.6/site-packages/pandas/core/generic.py:2999: SettingWithCopyWarning: \n",
      "A value is trying to be set on a copy of a slice from a DataFrame.\n",
      "Try using .loc[row_indexer,col_indexer] = value instead\n",
      "\n",
      "See the caveats in the documentation: http://pandas.pydata.org/pandas-docs/stable/indexing.html#indexing-view-versus-copy\n",
      "  self[name] = value\n"
     ]
    }
   ],
   "source": [
    "parties = set(X.petitioner.value_counts().index[:24].append(X.respondent.value_counts().index[:24]))\n",
    "\n",
    "X.petitioner = X.copy().petitioner.apply(lambda x: x if x in parties else 0)\n",
    "X.respondent = X.copy().respondent.apply(lambda x: x if x in parties else 0)"
   ]
  },
  {
   "cell_type": "code",
   "execution_count": 130,
   "metadata": {
    "collapsed": true
   },
   "outputs": [],
   "source": [
    "X_dummies = pd.get_dummies(X, drop_first=True)"
   ]
  },
  {
   "cell_type": "code",
   "execution_count": 131,
   "metadata": {
    "collapsed": true
   },
   "outputs": [],
   "source": [
    "X_train, X_test, y_train, y_test = train_test_split(X_dummies, y)"
   ]
  },
  {
   "cell_type": "code",
   "execution_count": 132,
   "metadata": {
    "collapsed": true
   },
   "outputs": [],
   "source": [
    "lr_params = {\n",
    "    'C': np.linspace(.25, 2.75, 11),\n",
    "    'penalty': ['l1', 'l2'],\n",
    "    'tol': np.logspace(-5, -3, 10)\n",
    "}"
   ]
  },
  {
   "cell_type": "code",
   "execution_count": 133,
   "metadata": {
    "collapsed": true
   },
   "outputs": [],
   "source": [
    "GS_LR = GridSearchCV(LogisticRegression(), param_grid=lr_params, n_jobs=2)"
   ]
  },
  {
   "cell_type": "code",
   "execution_count": 134,
   "metadata": {},
   "outputs": [
    {
     "data": {
      "text/plain": [
       "GridSearchCV(cv=None, error_score='raise',\n",
       "       estimator=LogisticRegression(C=1.0, class_weight=None, dual=False, fit_intercept=True,\n",
       "          intercept_scaling=1, max_iter=100, multi_class='ovr', n_jobs=1,\n",
       "          penalty='l2', random_state=None, solver='liblinear', tol=0.0001,\n",
       "          verbose=0, warm_start=False),\n",
       "       fit_params={}, iid=True, n_jobs=2,\n",
       "       param_grid={'C': array([ 0.25,  0.5 ,  0.75,  1.  ,  1.25,  1.5 ,  1.75,  2.  ,  2.25,\n",
       "        2.5 ,  2.75]), 'penalty': ['l1', 'l2'], 'tol': array([  1.00000e-05,   1.66810e-05,   2.78256e-05,   4.64159e-05,\n",
       "         7.74264e-05,   1.29155e-04,   2.15443e-04,   3.59381e-04,\n",
       "         5.99484e-04,   1.00000e-03])},\n",
       "       pre_dispatch='2*n_jobs', refit=True, return_train_score=True,\n",
       "       scoring=None, verbose=0)"
      ]
     },
     "execution_count": 134,
     "metadata": {},
     "output_type": "execute_result"
    }
   ],
   "source": [
    "GS_LR.fit(X_train, y_train)"
   ]
  },
  {
   "cell_type": "code",
   "execution_count": 135,
   "metadata": {},
   "outputs": [
    {
     "data": {
      "text/plain": [
       "array([ 0.66830403,  0.67088935,  0.67106284])"
      ]
     },
     "execution_count": 135,
     "metadata": {},
     "output_type": "execute_result"
    }
   ],
   "source": [
    "cross_val_score(GS_LR, X_train, y_train)"
   ]
  },
  {
   "cell_type": "code",
   "execution_count": 136,
   "metadata": {},
   "outputs": [
    {
     "data": {
      "text/plain": [
       "0.68019648397104449"
      ]
     },
     "execution_count": 136,
     "metadata": {},
     "output_type": "execute_result"
    }
   ],
   "source": [
    "GS_LR.score(X_test, y_test)"
   ]
  },
  {
   "cell_type": "code",
   "execution_count": 137,
   "metadata": {},
   "outputs": [
    {
     "data": {
      "text/plain": [
       "{'C': 0.5, 'penalty': 'l2', 'tol': 1.0000000000000001e-05}"
      ]
     },
     "execution_count": 137,
     "metadata": {},
     "output_type": "execute_result"
    }
   ],
   "source": [
    "GS_LR.best_params_"
   ]
  },
  {
   "cell_type": "code",
   "execution_count": 139,
   "metadata": {
    "collapsed": true
   },
   "outputs": [],
   "source": [
    "knn_params = {\n",
    "    'n_neighbors': [4, 5, 6, 10, 15, 20], \n",
    "    'weights': ['uniform', 'distance'], \n",
    "    'leaf_size': [20, 30, 40],\n",
    "    'p': [1, 2], \n",
    "    'metric': ['minkowski']\n",
    "}"
   ]
  },
  {
   "cell_type": "code",
   "execution_count": 140,
   "metadata": {
    "collapsed": true
   },
   "outputs": [],
   "source": [
    "GS_KNN = GridSearchCV(KNeighborsClassifier(), param_grid=knn_params, n_jobs=2, verbose=2)"
   ]
  },
  {
   "cell_type": "code",
   "execution_count": 141,
   "metadata": {
    "collapsed": true
   },
   "outputs": [
    {
     "name": "stdout",
     "output_type": "stream",
     "text": [
      "Fitting 3 folds for each of 72 candidates, totalling 216 fits\n",
      "[CV] leaf_size=20, metric=minkowski, n_neighbors=4, p=1, weights=uniform \n",
      "[CV] leaf_size=20, metric=minkowski, n_neighbors=4, p=1, weights=uniform \n",
      "[CV]  leaf_size=20, metric=minkowski, n_neighbors=4, p=1, weights=uniform, total=   8.1s\n",
      "[CV] leaf_size=20, metric=minkowski, n_neighbors=4, p=1, weights=uniform \n",
      "[CV]  leaf_size=20, metric=minkowski, n_neighbors=4, p=1, weights=uniform, total=   8.1s\n",
      "[CV] leaf_size=20, metric=minkowski, n_neighbors=4, p=1, weights=distance \n",
      "[CV]  leaf_size=20, metric=minkowski, n_neighbors=4, p=1, weights=distance, total=   7.8s\n",
      "[CV] leaf_size=20, metric=minkowski, n_neighbors=4, p=1, weights=distance \n",
      "[CV]  leaf_size=20, metric=minkowski, n_neighbors=4, p=1, weights=uniform, total=   7.9s\n",
      "[CV] leaf_size=20, metric=minkowski, n_neighbors=4, p=1, weights=distance \n",
      "[CV]  leaf_size=20, metric=minkowski, n_neighbors=4, p=1, weights=distance, total=   8.4s\n",
      "[CV] leaf_size=20, metric=minkowski, n_neighbors=4, p=2, weights=uniform \n",
      "[CV]  leaf_size=20, metric=minkowski, n_neighbors=4, p=1, weights=distance, total=   8.4s\n",
      "[CV] leaf_size=20, metric=minkowski, n_neighbors=4, p=2, weights=uniform \n",
      "[CV]  leaf_size=20, metric=minkowski, n_neighbors=4, p=2, weights=uniform, total=   8.6s\n",
      "[CV] leaf_size=20, metric=minkowski, n_neighbors=4, p=2, weights=uniform \n",
      "[CV]  leaf_size=20, metric=minkowski, n_neighbors=4, p=2, weights=uniform, total=   8.6s\n",
      "[CV] leaf_size=20, metric=minkowski, n_neighbors=4, p=2, weights=distance \n",
      "[CV]  leaf_size=20, metric=minkowski, n_neighbors=4, p=2, weights=uniform, total=   8.9s\n",
      "[CV] leaf_size=20, metric=minkowski, n_neighbors=4, p=2, weights=distance \n",
      "[CV]  leaf_size=20, metric=minkowski, n_neighbors=4, p=2, weights=distance, total=   8.9s\n",
      "[CV] leaf_size=20, metric=minkowski, n_neighbors=4, p=2, weights=distance \n",
      "[CV]  leaf_size=20, metric=minkowski, n_neighbors=4, p=2, weights=distance, total=   8.9s\n",
      "[CV] leaf_size=20, metric=minkowski, n_neighbors=5, p=1, weights=uniform \n",
      "[CV]  leaf_size=20, metric=minkowski, n_neighbors=4, p=2, weights=distance, total=   8.9s\n",
      "[CV] leaf_size=20, metric=minkowski, n_neighbors=5, p=1, weights=uniform \n",
      "[CV]  leaf_size=20, metric=minkowski, n_neighbors=5, p=1, weights=uniform, total=   9.2s\n",
      "[CV] leaf_size=20, metric=minkowski, n_neighbors=5, p=1, weights=uniform \n",
      "[CV]  leaf_size=20, metric=minkowski, n_neighbors=5, p=1, weights=uniform, total=   9.2s\n",
      "[CV] leaf_size=20, metric=minkowski, n_neighbors=5, p=1, weights=distance \n",
      "[CV]  leaf_size=20, metric=minkowski, n_neighbors=5, p=1, weights=uniform, total=   8.3s\n",
      "[CV] leaf_size=20, metric=minkowski, n_neighbors=5, p=1, weights=distance \n",
      "[CV]  leaf_size=20, metric=minkowski, n_neighbors=5, p=1, weights=distance, total=   8.3s\n",
      "[CV] leaf_size=20, metric=minkowski, n_neighbors=5, p=1, weights=distance \n",
      "[CV]  leaf_size=20, metric=minkowski, n_neighbors=5, p=1, weights=distance, total=   8.0s\n",
      "[CV] leaf_size=20, metric=minkowski, n_neighbors=5, p=2, weights=uniform \n",
      "[CV]  leaf_size=20, metric=minkowski, n_neighbors=5, p=1, weights=distance, total=   8.0s\n",
      "[CV] leaf_size=20, metric=minkowski, n_neighbors=5, p=2, weights=uniform \n",
      "[CV]  leaf_size=20, metric=minkowski, n_neighbors=5, p=2, weights=uniform, total=   9.0s\n",
      "[CV] leaf_size=20, metric=minkowski, n_neighbors=5, p=2, weights=uniform \n",
      "[CV]  leaf_size=20, metric=minkowski, n_neighbors=5, p=2, weights=uniform, total=   8.9s\n",
      "[CV] leaf_size=20, metric=minkowski, n_neighbors=5, p=2, weights=distance \n",
      "[CV]  leaf_size=20, metric=minkowski, n_neighbors=5, p=2, weights=distance, total=   9.2s\n",
      "[CV]  leaf_size=20, metric=minkowski, n_neighbors=5, p=2, weights=uniform, total=   9.3s\n",
      "[CV] leaf_size=20, metric=minkowski, n_neighbors=5, p=2, weights=distance \n",
      "[CV] leaf_size=20, metric=minkowski, n_neighbors=5, p=2, weights=distance \n",
      "[CV]  leaf_size=20, metric=minkowski, n_neighbors=5, p=2, weights=distance, total=   8.8s\n",
      "[CV] leaf_size=20, metric=minkowski, n_neighbors=6, p=1, weights=uniform \n",
      "[CV]  leaf_size=20, metric=minkowski, n_neighbors=5, p=2, weights=distance, total=   8.8s\n",
      "[CV] leaf_size=20, metric=minkowski, n_neighbors=6, p=1, weights=uniform \n",
      "[CV]  leaf_size=20, metric=minkowski, n_neighbors=6, p=1, weights=uniform, total=   8.4s\n",
      "[CV] leaf_size=20, metric=minkowski, n_neighbors=6, p=1, weights=uniform \n",
      "[CV]  leaf_size=20, metric=minkowski, n_neighbors=6, p=1, weights=uniform, total=   8.4s\n",
      "[CV] leaf_size=20, metric=minkowski, n_neighbors=6, p=1, weights=distance \n",
      "[CV]  leaf_size=20, metric=minkowski, n_neighbors=6, p=1, weights=distance, total=   8.2s\n",
      "[CV] leaf_size=20, metric=minkowski, n_neighbors=6, p=1, weights=distance \n",
      "[CV]  leaf_size=20, metric=minkowski, n_neighbors=6, p=1, weights=uniform, total=   8.3s\n",
      "[CV] leaf_size=20, metric=minkowski, n_neighbors=6, p=1, weights=distance \n",
      "[CV]  leaf_size=20, metric=minkowski, n_neighbors=6, p=1, weights=distance, total=   8.1s\n",
      "[CV] leaf_size=20, metric=minkowski, n_neighbors=6, p=2, weights=uniform \n",
      "[CV]  leaf_size=20, metric=minkowski, n_neighbors=6, p=1, weights=distance, total=   8.1s\n",
      "[CV] leaf_size=20, metric=minkowski, n_neighbors=6, p=2, weights=uniform \n",
      "[CV]  leaf_size=20, metric=minkowski, n_neighbors=6, p=2, weights=uniform, total=   8.9s\n",
      "[CV] leaf_size=20, metric=minkowski, n_neighbors=6, p=2, weights=uniform \n",
      "[CV]  leaf_size=20, metric=minkowski, n_neighbors=6, p=2, weights=uniform, total=   8.9s\n",
      "[CV] leaf_size=20, metric=minkowski, n_neighbors=6, p=2, weights=distance \n",
      "[CV]  leaf_size=20, metric=minkowski, n_neighbors=6, p=2, weights=uniform, total=   8.9s\n",
      "[CV] leaf_size=20, metric=minkowski, n_neighbors=6, p=2, weights=distance \n",
      "[CV]  leaf_size=20, metric=minkowski, n_neighbors=6, p=2, weights=distance, total=   8.9s\n",
      "[CV] leaf_size=20, metric=minkowski, n_neighbors=6, p=2, weights=distance \n",
      "[CV]  leaf_size=20, metric=minkowski, n_neighbors=6, p=2, weights=distance, total=  10.1s\n",
      "[CV] leaf_size=20, metric=minkowski, n_neighbors=10, p=1, weights=uniform \n",
      "[CV]  leaf_size=20, metric=minkowski, n_neighbors=6, p=2, weights=distance, total=  10.1s\n",
      "[CV] leaf_size=20, metric=minkowski, n_neighbors=10, p=1, weights=uniform \n",
      "[CV]  leaf_size=20, metric=minkowski, n_neighbors=10, p=1, weights=uniform, total=   8.3s\n",
      "[CV] leaf_size=20, metric=minkowski, n_neighbors=10, p=1, weights=uniform \n",
      "[CV]  leaf_size=20, metric=minkowski, n_neighbors=10, p=1, weights=uniform, total=   8.2s\n",
      "[CV] leaf_size=20, metric=minkowski, n_neighbors=10, p=1, weights=distance \n"
     ]
    },
    {
     "name": "stderr",
     "output_type": "stream",
     "text": [
      "[Parallel(n_jobs=2)]: Done  37 tasks      | elapsed:  8.0min\n"
     ]
    },
    {
     "name": "stdout",
     "output_type": "stream",
     "text": [
      "[CV]  leaf_size=20, metric=minkowski, n_neighbors=10, p=1, weights=uniform, total=   8.3s\n",
      "[CV] leaf_size=20, metric=minkowski, n_neighbors=10, p=1, weights=distance \n",
      "[CV]  leaf_size=20, metric=minkowski, n_neighbors=10, p=1, weights=distance, total=   8.3s\n",
      "[CV] leaf_size=20, metric=minkowski, n_neighbors=10, p=1, weights=distance \n",
      "[CV]  leaf_size=20, metric=minkowski, n_neighbors=10, p=1, weights=distance, total=   8.2s\n",
      "[CV] leaf_size=20, metric=minkowski, n_neighbors=10, p=2, weights=uniform \n",
      "[CV]  leaf_size=20, metric=minkowski, n_neighbors=10, p=1, weights=distance, total=   8.2s\n",
      "[CV] leaf_size=20, metric=minkowski, n_neighbors=10, p=2, weights=uniform \n",
      "[CV]  leaf_size=20, metric=minkowski, n_neighbors=10, p=2, weights=uniform, total=   9.0s\n",
      "[CV] leaf_size=20, metric=minkowski, n_neighbors=10, p=2, weights=uniform \n",
      "[CV]  leaf_size=20, metric=minkowski, n_neighbors=10, p=2, weights=uniform, total=   9.0s\n",
      "[CV] leaf_size=20, metric=minkowski, n_neighbors=10, p=2, weights=distance \n",
      "[CV]  leaf_size=20, metric=minkowski, n_neighbors=10, p=2, weights=uniform, total=   9.5s\n",
      "[CV] leaf_size=20, metric=minkowski, n_neighbors=10, p=2, weights=distance \n",
      "[CV]  leaf_size=20, metric=minkowski, n_neighbors=10, p=2, weights=distance, total=   9.4s\n",
      "[CV] leaf_size=20, metric=minkowski, n_neighbors=10, p=2, weights=distance \n",
      "[CV]  leaf_size=20, metric=minkowski, n_neighbors=10, p=2, weights=distance, total=   9.1s\n",
      "[CV] leaf_size=20, metric=minkowski, n_neighbors=15, p=1, weights=uniform \n",
      "[CV]  leaf_size=20, metric=minkowski, n_neighbors=10, p=2, weights=distance, total=   9.0s\n",
      "[CV] leaf_size=20, metric=minkowski, n_neighbors=15, p=1, weights=uniform \n",
      "[CV]  leaf_size=20, metric=minkowski, n_neighbors=15, p=1, weights=uniform, total=   8.5s\n",
      "[CV] leaf_size=20, metric=minkowski, n_neighbors=15, p=1, weights=uniform \n",
      "[CV]  leaf_size=20, metric=minkowski, n_neighbors=15, p=1, weights=uniform, total=   8.4s\n",
      "[CV] leaf_size=20, metric=minkowski, n_neighbors=15, p=1, weights=distance \n",
      "[CV]  leaf_size=20, metric=minkowski, n_neighbors=15, p=1, weights=uniform, total=   8.4s\n",
      "[CV] leaf_size=20, metric=minkowski, n_neighbors=15, p=1, weights=distance \n",
      "[CV]  leaf_size=20, metric=minkowski, n_neighbors=15, p=1, weights=distance, total=   8.3s\n",
      "[CV] leaf_size=20, metric=minkowski, n_neighbors=15, p=1, weights=distance \n",
      "[CV]  leaf_size=20, metric=minkowski, n_neighbors=15, p=1, weights=distance, total=   8.4s\n",
      "[CV] leaf_size=20, metric=minkowski, n_neighbors=15, p=2, weights=uniform \n",
      "[CV]  leaf_size=20, metric=minkowski, n_neighbors=15, p=1, weights=distance, total=   8.3s\n",
      "[CV] leaf_size=20, metric=minkowski, n_neighbors=15, p=2, weights=uniform \n",
      "[CV]  leaf_size=20, metric=minkowski, n_neighbors=15, p=2, weights=uniform, total=   9.1s\n",
      "[CV] leaf_size=20, metric=minkowski, n_neighbors=15, p=2, weights=uniform \n",
      "[CV]  leaf_size=20, metric=minkowski, n_neighbors=15, p=2, weights=uniform, total=   9.2s\n",
      "[CV] leaf_size=20, metric=minkowski, n_neighbors=15, p=2, weights=distance \n",
      "[CV]  leaf_size=20, metric=minkowski, n_neighbors=15, p=2, weights=uniform, total=   9.2s\n",
      "[CV] leaf_size=20, metric=minkowski, n_neighbors=15, p=2, weights=distance \n",
      "[CV]  leaf_size=20, metric=minkowski, n_neighbors=15, p=2, weights=distance, total=   9.1s\n",
      "[CV] leaf_size=20, metric=minkowski, n_neighbors=15, p=2, weights=distance \n",
      "[CV]  leaf_size=20, metric=minkowski, n_neighbors=15, p=2, weights=distance, total=   9.2s\n",
      "[CV] leaf_size=20, metric=minkowski, n_neighbors=20, p=1, weights=uniform \n",
      "[CV]  leaf_size=20, metric=minkowski, n_neighbors=15, p=2, weights=distance, total=   9.1s\n",
      "[CV] leaf_size=20, metric=minkowski, n_neighbors=20, p=1, weights=uniform \n",
      "[CV]  leaf_size=20, metric=minkowski, n_neighbors=20, p=1, weights=uniform, total=   8.7s\n",
      "[CV] leaf_size=20, metric=minkowski, n_neighbors=20, p=1, weights=uniform \n",
      "[CV]  leaf_size=20, metric=minkowski, n_neighbors=20, p=1, weights=uniform, total=   8.7s\n",
      "[CV] leaf_size=20, metric=minkowski, n_neighbors=20, p=1, weights=distance \n",
      "[CV]  leaf_size=20, metric=minkowski, n_neighbors=20, p=1, weights=uniform, total=   8.4s\n",
      "[CV] leaf_size=20, metric=minkowski, n_neighbors=20, p=1, weights=distance \n",
      "[CV]  leaf_size=20, metric=minkowski, n_neighbors=20, p=1, weights=distance, total=   8.4s\n",
      "[CV] leaf_size=20, metric=minkowski, n_neighbors=20, p=1, weights=distance \n",
      "[CV]  leaf_size=20, metric=minkowski, n_neighbors=20, p=1, weights=distance, total=   8.4s\n",
      "[CV] leaf_size=20, metric=minkowski, n_neighbors=20, p=2, weights=uniform \n",
      "[CV]  leaf_size=20, metric=minkowski, n_neighbors=20, p=1, weights=distance, total=   8.4s\n",
      "[CV] leaf_size=20, metric=minkowski, n_neighbors=20, p=2, weights=uniform \n",
      "[CV]  leaf_size=20, metric=minkowski, n_neighbors=20, p=2, weights=uniform, total=   9.2s\n",
      "[CV] leaf_size=20, metric=minkowski, n_neighbors=20, p=2, weights=uniform \n",
      "[CV]  leaf_size=20, metric=minkowski, n_neighbors=20, p=2, weights=uniform, total=   9.2s\n",
      "[CV] leaf_size=20, metric=minkowski, n_neighbors=20, p=2, weights=distance \n",
      "[CV]  leaf_size=20, metric=minkowski, n_neighbors=20, p=2, weights=distance, total=   9.6s\n",
      "[CV] leaf_size=20, metric=minkowski, n_neighbors=20, p=2, weights=distance \n",
      "[CV]  leaf_size=20, metric=minkowski, n_neighbors=20, p=2, weights=uniform, total=   9.6s\n",
      "[CV] leaf_size=20, metric=minkowski, n_neighbors=20, p=2, weights=distance \n",
      "[CV]  leaf_size=20, metric=minkowski, n_neighbors=20, p=2, weights=distance, total=  10.5s\n",
      "[CV] leaf_size=30, metric=minkowski, n_neighbors=4, p=1, weights=uniform \n",
      "[CV]  leaf_size=20, metric=minkowski, n_neighbors=20, p=2, weights=distance, total=  10.6s\n",
      "[CV] leaf_size=30, metric=minkowski, n_neighbors=4, p=1, weights=uniform \n",
      "[CV]  leaf_size=30, metric=minkowski, n_neighbors=4, p=1, weights=uniform, total=   7.8s\n",
      "[CV] leaf_size=30, metric=minkowski, n_neighbors=4, p=1, weights=uniform \n",
      "[CV]  leaf_size=30, metric=minkowski, n_neighbors=4, p=1, weights=uniform, total=   7.8s\n",
      "[CV] leaf_size=30, metric=minkowski, n_neighbors=4, p=1, weights=distance \n",
      "[CV]  leaf_size=30, metric=minkowski, n_neighbors=4, p=1, weights=distance, total=   8.1s\n",
      "[CV] leaf_size=30, metric=minkowski, n_neighbors=4, p=1, weights=distance \n",
      "[CV]  leaf_size=30, metric=minkowski, n_neighbors=4, p=1, weights=uniform, total=   8.1s\n",
      "[CV] leaf_size=30, metric=minkowski, n_neighbors=4, p=1, weights=distance \n",
      "[CV]  leaf_size=30, metric=minkowski, n_neighbors=4, p=1, weights=distance, total=   7.9s\n",
      "[CV] leaf_size=30, metric=minkowski, n_neighbors=4, p=2, weights=uniform \n",
      "[CV]  leaf_size=30, metric=minkowski, n_neighbors=4, p=1, weights=distance, total=   7.9s\n",
      "[CV] leaf_size=30, metric=minkowski, n_neighbors=4, p=2, weights=uniform \n",
      "[CV]  leaf_size=30, metric=minkowski, n_neighbors=4, p=2, weights=uniform, total=   8.7s\n",
      "[CV] leaf_size=30, metric=minkowski, n_neighbors=4, p=2, weights=uniform \n",
      "[CV]  leaf_size=30, metric=minkowski, n_neighbors=4, p=2, weights=uniform, total=   8.6s\n",
      "[CV] leaf_size=30, metric=minkowski, n_neighbors=4, p=2, weights=distance \n",
      "[CV]  leaf_size=30, metric=minkowski, n_neighbors=4, p=2, weights=uniform, total=  10.8s\n",
      "[CV] leaf_size=30, metric=minkowski, n_neighbors=4, p=2, weights=distance \n",
      "[CV]  leaf_size=30, metric=minkowski, n_neighbors=4, p=2, weights=distance, total=  10.9s\n",
      "[CV] leaf_size=30, metric=minkowski, n_neighbors=4, p=2, weights=distance \n",
      "[CV]  leaf_size=30, metric=minkowski, n_neighbors=4, p=2, weights=distance, total=   8.7s\n",
      "[CV] leaf_size=30, metric=minkowski, n_neighbors=5, p=1, weights=uniform \n",
      "[CV]  leaf_size=30, metric=minkowski, n_neighbors=4, p=2, weights=distance, total=   8.6s\n",
      "[CV] leaf_size=30, metric=minkowski, n_neighbors=5, p=1, weights=uniform \n",
      "[CV]  leaf_size=30, metric=minkowski, n_neighbors=5, p=1, weights=uniform, total=   8.3s\n",
      "[CV] leaf_size=30, metric=minkowski, n_neighbors=5, p=1, weights=uniform \n",
      "[CV]  leaf_size=30, metric=minkowski, n_neighbors=5, p=1, weights=uniform, total=   8.2s\n",
      "[CV] leaf_size=30, metric=minkowski, n_neighbors=5, p=1, weights=distance \n",
      "[CV]  leaf_size=30, metric=minkowski, n_neighbors=5, p=1, weights=distance, total=   8.0s\n",
      "[CV] leaf_size=30, metric=minkowski, n_neighbors=5, p=1, weights=distance \n",
      "[CV]  leaf_size=30, metric=minkowski, n_neighbors=5, p=1, weights=uniform, total=   8.0s\n",
      "[CV] leaf_size=30, metric=minkowski, n_neighbors=5, p=1, weights=distance \n"
     ]
    },
    {
     "name": "stdout",
     "output_type": "stream",
     "text": [
      "[CV]  leaf_size=30, metric=minkowski, n_neighbors=5, p=1, weights=distance, total=   8.1s\n",
      "[CV] leaf_size=30, metric=minkowski, n_neighbors=5, p=2, weights=uniform \n",
      "[CV]  leaf_size=30, metric=minkowski, n_neighbors=5, p=1, weights=distance, total=   8.0s\n",
      "[CV] leaf_size=30, metric=minkowski, n_neighbors=5, p=2, weights=uniform \n",
      "[CV]  leaf_size=30, metric=minkowski, n_neighbors=5, p=2, weights=uniform, total=   8.7s\n",
      "[CV] leaf_size=30, metric=minkowski, n_neighbors=5, p=2, weights=uniform \n",
      "[CV]  leaf_size=30, metric=minkowski, n_neighbors=5, p=2, weights=uniform, total=   8.8s\n",
      "[CV] leaf_size=30, metric=minkowski, n_neighbors=5, p=2, weights=distance \n",
      "[CV]  leaf_size=30, metric=minkowski, n_neighbors=5, p=2, weights=uniform, total=   9.2s\n",
      "[CV] leaf_size=30, metric=minkowski, n_neighbors=5, p=2, weights=distance \n",
      "[CV]  leaf_size=30, metric=minkowski, n_neighbors=5, p=2, weights=distance, total=   9.2s\n",
      "[CV] leaf_size=30, metric=minkowski, n_neighbors=5, p=2, weights=distance \n",
      "[CV]  leaf_size=30, metric=minkowski, n_neighbors=5, p=2, weights=distance, total=   8.8s\n",
      "[CV] leaf_size=30, metric=minkowski, n_neighbors=6, p=1, weights=uniform \n",
      "[CV]  leaf_size=30, metric=minkowski, n_neighbors=5, p=2, weights=distance, total=   8.7s\n",
      "[CV] leaf_size=30, metric=minkowski, n_neighbors=6, p=1, weights=uniform \n",
      "[CV]  leaf_size=30, metric=minkowski, n_neighbors=6, p=1, weights=uniform, total=   8.0s\n",
      "[CV] leaf_size=30, metric=minkowski, n_neighbors=6, p=1, weights=uniform \n",
      "[CV]  leaf_size=30, metric=minkowski, n_neighbors=6, p=1, weights=uniform, total=   8.0s\n",
      "[CV] leaf_size=30, metric=minkowski, n_neighbors=6, p=1, weights=distance \n",
      "[CV]  leaf_size=30, metric=minkowski, n_neighbors=6, p=1, weights=distance, total=  10.1s\n",
      "[CV]  leaf_size=30, metric=minkowski, n_neighbors=6, p=1, weights=uniform, total=  10.1s\n",
      "[CV] leaf_size=30, metric=minkowski, n_neighbors=6, p=1, weights=distance \n",
      "[CV] leaf_size=30, metric=minkowski, n_neighbors=6, p=1, weights=distance \n",
      "[CV]  leaf_size=30, metric=minkowski, n_neighbors=6, p=1, weights=distance, total=   8.1s\n",
      "[CV] leaf_size=30, metric=minkowski, n_neighbors=6, p=2, weights=uniform \n",
      "[CV]  leaf_size=30, metric=minkowski, n_neighbors=6, p=1, weights=distance, total=   8.1s\n",
      "[CV] leaf_size=30, metric=minkowski, n_neighbors=6, p=2, weights=uniform \n",
      "[CV]  leaf_size=30, metric=minkowski, n_neighbors=6, p=2, weights=uniform, total=   9.2s\n",
      "[CV] leaf_size=30, metric=minkowski, n_neighbors=6, p=2, weights=uniform \n",
      "[CV]  leaf_size=30, metric=minkowski, n_neighbors=6, p=2, weights=uniform, total=   9.2s\n",
      "[CV] leaf_size=30, metric=minkowski, n_neighbors=6, p=2, weights=distance \n",
      "[CV]  leaf_size=30, metric=minkowski, n_neighbors=6, p=2, weights=distance, total=   9.0s\n",
      "[CV] leaf_size=30, metric=minkowski, n_neighbors=6, p=2, weights=distance \n",
      "[CV]  leaf_size=30, metric=minkowski, n_neighbors=6, p=2, weights=uniform, total=   9.1s\n",
      "[CV] leaf_size=30, metric=minkowski, n_neighbors=6, p=2, weights=distance \n",
      "[CV]  leaf_size=30, metric=minkowski, n_neighbors=6, p=2, weights=distance, total=   9.8s\n",
      "[CV] leaf_size=30, metric=minkowski, n_neighbors=10, p=1, weights=uniform \n",
      "[CV]  leaf_size=30, metric=minkowski, n_neighbors=6, p=2, weights=distance, total=   9.8s\n",
      "[CV] leaf_size=30, metric=minkowski, n_neighbors=10, p=1, weights=uniform \n",
      "[CV]  leaf_size=30, metric=minkowski, n_neighbors=10, p=1, weights=uniform, total=   8.4s\n",
      "[CV] leaf_size=30, metric=minkowski, n_neighbors=10, p=1, weights=uniform \n",
      "[CV]  leaf_size=30, metric=minkowski, n_neighbors=10, p=1, weights=uniform, total=   8.4s\n",
      "[CV] leaf_size=30, metric=minkowski, n_neighbors=10, p=1, weights=distance \n",
      "[CV]  leaf_size=30, metric=minkowski, n_neighbors=10, p=1, weights=uniform, total=   8.3s\n",
      "[CV] leaf_size=30, metric=minkowski, n_neighbors=10, p=1, weights=distance \n",
      "[CV]  leaf_size=30, metric=minkowski, n_neighbors=10, p=1, weights=distance, total=   8.2s\n",
      "[CV] leaf_size=30, metric=minkowski, n_neighbors=10, p=1, weights=distance \n",
      "[CV]  leaf_size=30, metric=minkowski, n_neighbors=10, p=1, weights=distance, total=   8.3s\n",
      "[CV] leaf_size=30, metric=minkowski, n_neighbors=10, p=2, weights=uniform \n",
      "[CV]  leaf_size=30, metric=minkowski, n_neighbors=10, p=1, weights=distance, total=   8.2s\n",
      "[CV] leaf_size=30, metric=minkowski, n_neighbors=10, p=2, weights=uniform \n",
      "[CV]  leaf_size=30, metric=minkowski, n_neighbors=10, p=2, weights=uniform, total=   9.0s\n",
      "[CV]  leaf_size=30, metric=minkowski, n_neighbors=10, p=2, weights=uniform, total=   9.1s\n",
      "[CV] leaf_size=30, metric=minkowski, n_neighbors=10, p=2, weights=uniform \n",
      "[CV] leaf_size=30, metric=minkowski, n_neighbors=10, p=2, weights=distance \n",
      "[CV]  leaf_size=30, metric=minkowski, n_neighbors=10, p=2, weights=uniform, total=   9.5s\n",
      "[CV] leaf_size=30, metric=minkowski, n_neighbors=10, p=2, weights=distance \n",
      "[CV]  leaf_size=30, metric=minkowski, n_neighbors=10, p=2, weights=distance, total=   9.5s\n",
      "[CV] leaf_size=30, metric=minkowski, n_neighbors=10, p=2, weights=distance \n",
      "[CV]  leaf_size=30, metric=minkowski, n_neighbors=10, p=2, weights=distance, total=   9.1s\n",
      "[CV] leaf_size=30, metric=minkowski, n_neighbors=15, p=1, weights=uniform \n",
      "[CV]  leaf_size=30, metric=minkowski, n_neighbors=10, p=2, weights=distance, total=   9.1s\n",
      "[CV] leaf_size=30, metric=minkowski, n_neighbors=15, p=1, weights=uniform \n",
      "[CV]  leaf_size=30, metric=minkowski, n_neighbors=15, p=1, weights=uniform, total=   8.3s\n",
      "[CV] leaf_size=30, metric=minkowski, n_neighbors=15, p=1, weights=uniform \n",
      "[CV]  leaf_size=30, metric=minkowski, n_neighbors=15, p=1, weights=uniform, total=   8.3s\n",
      "[CV] leaf_size=30, metric=minkowski, n_neighbors=15, p=1, weights=distance \n",
      "[CV]  leaf_size=30, metric=minkowski, n_neighbors=15, p=1, weights=uniform, total=   8.5s\n",
      "[CV] leaf_size=30, metric=minkowski, n_neighbors=15, p=1, weights=distance \n",
      "[CV]  leaf_size=30, metric=minkowski, n_neighbors=15, p=1, weights=distance, total=   8.5s\n",
      "[CV] leaf_size=30, metric=minkowski, n_neighbors=15, p=1, weights=distance \n",
      "[CV]  leaf_size=30, metric=minkowski, n_neighbors=15, p=1, weights=distance, total=   8.4s\n",
      "[CV] leaf_size=30, metric=minkowski, n_neighbors=15, p=2, weights=uniform \n",
      "[CV]  leaf_size=30, metric=minkowski, n_neighbors=15, p=1, weights=distance, total=   8.3s\n",
      "[CV] leaf_size=30, metric=minkowski, n_neighbors=15, p=2, weights=uniform \n",
      "[CV]  leaf_size=30, metric=minkowski, n_neighbors=15, p=2, weights=uniform, total=   9.2s\n",
      "[CV] leaf_size=30, metric=minkowski, n_neighbors=15, p=2, weights=uniform \n",
      "[CV]  leaf_size=30, metric=minkowski, n_neighbors=15, p=2, weights=uniform, total=   9.1s\n",
      "[CV] leaf_size=30, metric=minkowski, n_neighbors=15, p=2, weights=distance \n",
      "[CV]  leaf_size=30, metric=minkowski, n_neighbors=15, p=2, weights=uniform, total=   9.5s\n",
      "[CV] leaf_size=30, metric=minkowski, n_neighbors=15, p=2, weights=distance \n",
      "[CV]  leaf_size=30, metric=minkowski, n_neighbors=15, p=2, weights=distance, total=   9.4s\n",
      "[CV] leaf_size=30, metric=minkowski, n_neighbors=15, p=2, weights=distance \n",
      "[CV]  leaf_size=30, metric=minkowski, n_neighbors=15, p=2, weights=distance, total=   9.3s\n",
      "[CV] leaf_size=30, metric=minkowski, n_neighbors=20, p=1, weights=uniform \n",
      "[CV]  leaf_size=30, metric=minkowski, n_neighbors=15, p=2, weights=distance, total=   9.3s\n",
      "[CV] leaf_size=30, metric=minkowski, n_neighbors=20, p=1, weights=uniform \n",
      "[CV]  leaf_size=30, metric=minkowski, n_neighbors=20, p=1, weights=uniform, total=   8.4s\n",
      "[CV] leaf_size=30, metric=minkowski, n_neighbors=20, p=1, weights=uniform \n",
      "[CV]  leaf_size=30, metric=minkowski, n_neighbors=20, p=1, weights=uniform, total=   8.4s\n",
      "[CV] leaf_size=30, metric=minkowski, n_neighbors=20, p=1, weights=distance \n",
      "[CV]  leaf_size=30, metric=minkowski, n_neighbors=20, p=1, weights=uniform, total=  11.4s\n",
      "[CV] leaf_size=30, metric=minkowski, n_neighbors=20, p=1, weights=distance \n",
      "[CV]  leaf_size=30, metric=minkowski, n_neighbors=20, p=1, weights=distance, total=  11.4s\n",
      "[CV] leaf_size=30, metric=minkowski, n_neighbors=20, p=1, weights=distance \n",
      "[CV]  leaf_size=30, metric=minkowski, n_neighbors=20, p=1, weights=distance, total=   8.6s\n",
      "[CV] leaf_size=30, metric=minkowski, n_neighbors=20, p=2, weights=uniform \n",
      "[CV]  leaf_size=30, metric=minkowski, n_neighbors=20, p=1, weights=distance, total=   8.5s\n",
      "[CV] leaf_size=30, metric=minkowski, n_neighbors=20, p=2, weights=uniform \n"
     ]
    },
    {
     "name": "stdout",
     "output_type": "stream",
     "text": [
      "[CV]  leaf_size=30, metric=minkowski, n_neighbors=20, p=2, weights=uniform, total=   9.5s\n",
      "[CV] leaf_size=30, metric=minkowski, n_neighbors=20, p=2, weights=uniform \n",
      "[CV]  leaf_size=30, metric=minkowski, n_neighbors=20, p=2, weights=uniform, total=   9.5s\n",
      "[CV] leaf_size=30, metric=minkowski, n_neighbors=20, p=2, weights=distance \n",
      "[CV]  leaf_size=30, metric=minkowski, n_neighbors=20, p=2, weights=uniform, total=   9.5s\n",
      "[CV] leaf_size=30, metric=minkowski, n_neighbors=20, p=2, weights=distance \n",
      "[CV]  leaf_size=30, metric=minkowski, n_neighbors=20, p=2, weights=distance, total=   9.5s\n",
      "[CV] leaf_size=30, metric=minkowski, n_neighbors=20, p=2, weights=distance \n",
      "[CV]  leaf_size=30, metric=minkowski, n_neighbors=20, p=2, weights=distance, total=   9.2s\n",
      "[CV] leaf_size=40, metric=minkowski, n_neighbors=4, p=1, weights=uniform \n",
      "[CV]  leaf_size=30, metric=minkowski, n_neighbors=20, p=2, weights=distance, total=   9.2s\n",
      "[CV] leaf_size=40, metric=minkowski, n_neighbors=4, p=1, weights=uniform \n",
      "[CV]  leaf_size=40, metric=minkowski, n_neighbors=4, p=1, weights=uniform, total=   7.3s\n",
      "[CV] leaf_size=40, metric=minkowski, n_neighbors=4, p=1, weights=uniform \n",
      "[CV]  leaf_size=40, metric=minkowski, n_neighbors=4, p=1, weights=uniform, total=   7.2s\n",
      "[CV] leaf_size=40, metric=minkowski, n_neighbors=4, p=1, weights=distance \n",
      "[CV]  leaf_size=40, metric=minkowski, n_neighbors=4, p=1, weights=uniform, total=   7.0s\n",
      "[CV] leaf_size=40, metric=minkowski, n_neighbors=4, p=1, weights=distance \n",
      "[CV]  leaf_size=40, metric=minkowski, n_neighbors=4, p=1, weights=distance, total=   7.0s\n",
      "[CV] leaf_size=40, metric=minkowski, n_neighbors=4, p=1, weights=distance \n",
      "[CV]  leaf_size=40, metric=minkowski, n_neighbors=4, p=1, weights=distance, total=   7.4s\n",
      "[CV] leaf_size=40, metric=minkowski, n_neighbors=4, p=2, weights=uniform \n",
      "[CV]  leaf_size=40, metric=minkowski, n_neighbors=4, p=1, weights=distance, total=   7.3s\n",
      "[CV] leaf_size=40, metric=minkowski, n_neighbors=4, p=2, weights=uniform \n",
      "[CV]  leaf_size=40, metric=minkowski, n_neighbors=4, p=2, weights=uniform, total=   7.6s\n",
      "[CV]  leaf_size=40, metric=minkowski, n_neighbors=4, p=2, weights=uniform, total=   7.5s\n",
      "[CV] leaf_size=40, metric=minkowski, n_neighbors=4, p=2, weights=uniform \n",
      "[CV] leaf_size=40, metric=minkowski, n_neighbors=4, p=2, weights=distance \n",
      "[CV]  leaf_size=40, metric=minkowski, n_neighbors=4, p=2, weights=uniform, total=   7.6s\n",
      "[CV] leaf_size=40, metric=minkowski, n_neighbors=4, p=2, weights=distance \n",
      "[CV]  leaf_size=40, metric=minkowski, n_neighbors=4, p=2, weights=distance, total=   7.6s\n",
      "[CV] leaf_size=40, metric=minkowski, n_neighbors=4, p=2, weights=distance \n",
      "[CV]  leaf_size=40, metric=minkowski, n_neighbors=4, p=2, weights=distance, total=   7.5s\n",
      "[CV] leaf_size=40, metric=minkowski, n_neighbors=5, p=1, weights=uniform \n",
      "[CV]  leaf_size=40, metric=minkowski, n_neighbors=4, p=2, weights=distance, total=   7.4s\n",
      "[CV] leaf_size=40, metric=minkowski, n_neighbors=5, p=1, weights=uniform \n",
      "[CV]  leaf_size=40, metric=minkowski, n_neighbors=5, p=1, weights=uniform, total=   7.2s\n",
      "[CV] leaf_size=40, metric=minkowski, n_neighbors=5, p=1, weights=uniform \n",
      "[CV]  leaf_size=40, metric=minkowski, n_neighbors=5, p=1, weights=uniform, total=   7.3s\n",
      "[CV] leaf_size=40, metric=minkowski, n_neighbors=5, p=1, weights=distance \n"
     ]
    },
    {
     "name": "stderr",
     "output_type": "stream",
     "text": [
      "[Parallel(n_jobs=2)]: Done 158 tasks      | elapsed: 33.5min\n"
     ]
    },
    {
     "name": "stdout",
     "output_type": "stream",
     "text": [
      "[CV]  leaf_size=40, metric=minkowski, n_neighbors=5, p=1, weights=uniform, total=   7.4s\n",
      "[CV] leaf_size=40, metric=minkowski, n_neighbors=5, p=1, weights=distance \n",
      "[CV]  leaf_size=40, metric=minkowski, n_neighbors=5, p=1, weights=distance, total=   7.4s\n",
      "[CV] leaf_size=40, metric=minkowski, n_neighbors=5, p=1, weights=distance \n",
      "[CV]  leaf_size=40, metric=minkowski, n_neighbors=5, p=1, weights=distance, total=   7.1s\n",
      "[CV] leaf_size=40, metric=minkowski, n_neighbors=5, p=2, weights=uniform \n",
      "[CV]  leaf_size=40, metric=minkowski, n_neighbors=5, p=1, weights=distance, total=   7.0s\n",
      "[CV] leaf_size=40, metric=minkowski, n_neighbors=5, p=2, weights=uniform \n",
      "[CV]  leaf_size=40, metric=minkowski, n_neighbors=5, p=2, weights=uniform, total=   7.5s\n",
      "[CV] leaf_size=40, metric=minkowski, n_neighbors=5, p=2, weights=uniform \n",
      "[CV]  leaf_size=40, metric=minkowski, n_neighbors=5, p=2, weights=uniform, total=   7.5s\n",
      "[CV] leaf_size=40, metric=minkowski, n_neighbors=5, p=2, weights=distance \n",
      "[CV]  leaf_size=40, metric=minkowski, n_neighbors=5, p=2, weights=uniform, total=   7.5s\n",
      "[CV] leaf_size=40, metric=minkowski, n_neighbors=5, p=2, weights=distance \n",
      "[CV]  leaf_size=40, metric=minkowski, n_neighbors=5, p=2, weights=distance, total=   7.5s\n",
      "[CV] leaf_size=40, metric=minkowski, n_neighbors=5, p=2, weights=distance \n",
      "[CV]  leaf_size=40, metric=minkowski, n_neighbors=5, p=2, weights=distance, total=   7.4s\n",
      "[CV] leaf_size=40, metric=minkowski, n_neighbors=6, p=1, weights=uniform \n",
      "[CV]  leaf_size=40, metric=minkowski, n_neighbors=5, p=2, weights=distance, total=   7.4s\n",
      "[CV] leaf_size=40, metric=minkowski, n_neighbors=6, p=1, weights=uniform \n",
      "[CV]  leaf_size=40, metric=minkowski, n_neighbors=6, p=1, weights=uniform, total=   7.1s\n",
      "[CV] leaf_size=40, metric=minkowski, n_neighbors=6, p=1, weights=uniform \n",
      "[CV]  leaf_size=40, metric=minkowski, n_neighbors=6, p=1, weights=uniform, total=   7.0s\n",
      "[CV] leaf_size=40, metric=minkowski, n_neighbors=6, p=1, weights=distance \n",
      "[CV]  leaf_size=40, metric=minkowski, n_neighbors=6, p=1, weights=uniform, total=   7.1s\n",
      "[CV] leaf_size=40, metric=minkowski, n_neighbors=6, p=1, weights=distance \n",
      "[CV]  leaf_size=40, metric=minkowski, n_neighbors=6, p=1, weights=distance, total=   7.1s\n",
      "[CV] leaf_size=40, metric=minkowski, n_neighbors=6, p=1, weights=distance \n",
      "[CV]  leaf_size=40, metric=minkowski, n_neighbors=6, p=1, weights=distance, total=   7.1s\n",
      "[CV] leaf_size=40, metric=minkowski, n_neighbors=6, p=2, weights=uniform \n",
      "[CV]  leaf_size=40, metric=minkowski, n_neighbors=6, p=1, weights=distance, total=   7.0s\n",
      "[CV] leaf_size=40, metric=minkowski, n_neighbors=6, p=2, weights=uniform \n",
      "[CV]  leaf_size=40, metric=minkowski, n_neighbors=6, p=2, weights=uniform, total=   7.5s\n",
      "[CV] leaf_size=40, metric=minkowski, n_neighbors=6, p=2, weights=uniform \n",
      "[CV]  leaf_size=40, metric=minkowski, n_neighbors=6, p=2, weights=uniform, total=   7.4s\n",
      "[CV] leaf_size=40, metric=minkowski, n_neighbors=6, p=2, weights=distance \n",
      "[CV]  leaf_size=40, metric=minkowski, n_neighbors=6, p=2, weights=uniform, total=   7.5s\n",
      "[CV] leaf_size=40, metric=minkowski, n_neighbors=6, p=2, weights=distance \n",
      "[CV]  leaf_size=40, metric=minkowski, n_neighbors=6, p=2, weights=distance, total=   7.4s\n",
      "[CV] leaf_size=40, metric=minkowski, n_neighbors=6, p=2, weights=distance \n",
      "[CV]  leaf_size=40, metric=minkowski, n_neighbors=6, p=2, weights=distance, total=   7.9s\n",
      "[CV] leaf_size=40, metric=minkowski, n_neighbors=10, p=1, weights=uniform \n",
      "[CV]  leaf_size=40, metric=minkowski, n_neighbors=6, p=2, weights=distance, total=   7.8s\n",
      "[CV] leaf_size=40, metric=minkowski, n_neighbors=10, p=1, weights=uniform \n",
      "[CV]  leaf_size=40, metric=minkowski, n_neighbors=10, p=1, weights=uniform, total=   7.1s\n",
      "[CV] leaf_size=40, metric=minkowski, n_neighbors=10, p=1, weights=uniform \n",
      "[CV]  leaf_size=40, metric=minkowski, n_neighbors=10, p=1, weights=uniform, total=   7.3s\n",
      "[CV] leaf_size=40, metric=minkowski, n_neighbors=10, p=1, weights=distance \n",
      "[CV]  leaf_size=40, metric=minkowski, n_neighbors=10, p=1, weights=uniform, total=   7.2s\n",
      "[CV] leaf_size=40, metric=minkowski, n_neighbors=10, p=1, weights=distance \n",
      "[CV]  leaf_size=40, metric=minkowski, n_neighbors=10, p=1, weights=distance, total=   7.2s\n",
      "[CV] leaf_size=40, metric=minkowski, n_neighbors=10, p=1, weights=distance \n",
      "[CV]  leaf_size=40, metric=minkowski, n_neighbors=10, p=1, weights=distance, total=   7.3s\n",
      "[CV] leaf_size=40, metric=minkowski, n_neighbors=10, p=2, weights=uniform \n",
      "[CV]  leaf_size=40, metric=minkowski, n_neighbors=10, p=1, weights=distance, total=   7.2s\n",
      "[CV] leaf_size=40, metric=minkowski, n_neighbors=10, p=2, weights=uniform \n",
      "[CV]  leaf_size=40, metric=minkowski, n_neighbors=10, p=2, weights=uniform, total=   7.5s\n",
      "[CV] leaf_size=40, metric=minkowski, n_neighbors=10, p=2, weights=uniform \n",
      "[CV]  leaf_size=40, metric=minkowski, n_neighbors=10, p=2, weights=uniform, total=   7.5s\n",
      "[CV] leaf_size=40, metric=minkowski, n_neighbors=10, p=2, weights=distance \n",
      "[CV]  leaf_size=40, metric=minkowski, n_neighbors=10, p=2, weights=uniform, total=   7.6s\n",
      "[CV] leaf_size=40, metric=minkowski, n_neighbors=10, p=2, weights=distance \n",
      "[CV]  leaf_size=40, metric=minkowski, n_neighbors=10, p=2, weights=distance, total=   7.6s\n",
      "[CV] leaf_size=40, metric=minkowski, n_neighbors=10, p=2, weights=distance \n",
      "[CV]  leaf_size=40, metric=minkowski, n_neighbors=10, p=2, weights=distance, total=   7.5s\n",
      "[CV] leaf_size=40, metric=minkowski, n_neighbors=15, p=1, weights=uniform \n",
      "[CV]  leaf_size=40, metric=minkowski, n_neighbors=10, p=2, weights=distance, total=   7.5s\n",
      "[CV] leaf_size=40, metric=minkowski, n_neighbors=15, p=1, weights=uniform \n",
      "[CV]  leaf_size=40, metric=minkowski, n_neighbors=15, p=1, weights=uniform, total=   8.6s\n",
      "[CV] leaf_size=40, metric=minkowski, n_neighbors=15, p=1, weights=uniform \n",
      "[CV]  leaf_size=40, metric=minkowski, n_neighbors=15, p=1, weights=uniform, total=   8.5s\n",
      "[CV] leaf_size=40, metric=minkowski, n_neighbors=15, p=1, weights=distance \n",
      "[CV]  leaf_size=40, metric=minkowski, n_neighbors=15, p=1, weights=uniform, total=   7.2s\n",
      "[CV] leaf_size=40, metric=minkowski, n_neighbors=15, p=1, weights=distance \n",
      "[CV]  leaf_size=40, metric=minkowski, n_neighbors=15, p=1, weights=distance, total=   7.2s\n",
      "[CV] leaf_size=40, metric=minkowski, n_neighbors=15, p=1, weights=distance \n",
      "[CV]  leaf_size=40, metric=minkowski, n_neighbors=15, p=1, weights=distance, total=   7.3s\n",
      "[CV] leaf_size=40, metric=minkowski, n_neighbors=15, p=2, weights=uniform \n",
      "[CV]  leaf_size=40, metric=minkowski, n_neighbors=15, p=1, weights=distance, total=   7.2s\n",
      "[CV] leaf_size=40, metric=minkowski, n_neighbors=15, p=2, weights=uniform \n",
      "[CV]  leaf_size=40, metric=minkowski, n_neighbors=15, p=2, weights=uniform, total=   7.6s\n",
      "[CV] leaf_size=40, metric=minkowski, n_neighbors=15, p=2, weights=uniform \n",
      "[CV]  leaf_size=40, metric=minkowski, n_neighbors=15, p=2, weights=uniform, total=   7.7s\n",
      "[CV] leaf_size=40, metric=minkowski, n_neighbors=15, p=2, weights=distance \n",
      "[CV]  leaf_size=40, metric=minkowski, n_neighbors=15, p=2, weights=uniform, total=   7.6s\n",
      "[CV] leaf_size=40, metric=minkowski, n_neighbors=15, p=2, weights=distance \n",
      "[CV]  leaf_size=40, metric=minkowski, n_neighbors=15, p=2, weights=distance, total=   7.6s\n",
      "[CV] leaf_size=40, metric=minkowski, n_neighbors=15, p=2, weights=distance \n",
      "[CV]  leaf_size=40, metric=minkowski, n_neighbors=15, p=2, weights=distance, total=   7.6s\n",
      "[CV] leaf_size=40, metric=minkowski, n_neighbors=20, p=1, weights=uniform \n",
      "[CV]  leaf_size=40, metric=minkowski, n_neighbors=15, p=2, weights=distance, total=   7.5s\n",
      "[CV] leaf_size=40, metric=minkowski, n_neighbors=20, p=1, weights=uniform \n",
      "[CV]  leaf_size=40, metric=minkowski, n_neighbors=20, p=1, weights=uniform, total=   7.5s\n",
      "[CV] leaf_size=40, metric=minkowski, n_neighbors=20, p=1, weights=uniform \n",
      "[CV]  leaf_size=40, metric=minkowski, n_neighbors=20, p=1, weights=uniform, total=   7.4s\n",
      "[CV] leaf_size=40, metric=minkowski, n_neighbors=20, p=1, weights=distance \n",
      "[CV]  leaf_size=40, metric=minkowski, n_neighbors=20, p=1, weights=uniform, total=   7.4s\n",
      "[CV] leaf_size=40, metric=minkowski, n_neighbors=20, p=1, weights=distance \n",
      "[CV]  leaf_size=40, metric=minkowski, n_neighbors=20, p=1, weights=distance, total=   7.3s\n",
      "[CV] leaf_size=40, metric=minkowski, n_neighbors=20, p=1, weights=distance \n"
     ]
    },
    {
     "name": "stdout",
     "output_type": "stream",
     "text": [
      "[CV]  leaf_size=40, metric=minkowski, n_neighbors=20, p=1, weights=distance, total=   7.3s\n",
      "[CV] leaf_size=40, metric=minkowski, n_neighbors=20, p=2, weights=uniform \n",
      "[CV]  leaf_size=40, metric=minkowski, n_neighbors=20, p=1, weights=distance, total=   7.2s\n",
      "[CV] leaf_size=40, metric=minkowski, n_neighbors=20, p=2, weights=uniform \n",
      "[CV]  leaf_size=40, metric=minkowski, n_neighbors=20, p=2, weights=uniform, total=   7.7s\n",
      "[CV] leaf_size=40, metric=minkowski, n_neighbors=20, p=2, weights=uniform \n",
      "[CV]  leaf_size=40, metric=minkowski, n_neighbors=20, p=2, weights=uniform, total=   7.6s\n",
      "[CV] leaf_size=40, metric=minkowski, n_neighbors=20, p=2, weights=distance \n",
      "[CV]  leaf_size=40, metric=minkowski, n_neighbors=20, p=2, weights=uniform, total=   7.9s\n",
      "[CV] leaf_size=40, metric=minkowski, n_neighbors=20, p=2, weights=distance \n",
      "[CV]  leaf_size=40, metric=minkowski, n_neighbors=20, p=2, weights=distance, total=   7.8s\n",
      "[CV] leaf_size=40, metric=minkowski, n_neighbors=20, p=2, weights=distance \n",
      "[CV]  leaf_size=40, metric=minkowski, n_neighbors=20, p=2, weights=distance, total=   7.9s\n",
      "[CV]  leaf_size=40, metric=minkowski, n_neighbors=20, p=2, weights=distance, total=   7.9s\n"
     ]
    },
    {
     "name": "stderr",
     "output_type": "stream",
     "text": [
      "[Parallel(n_jobs=2)]: Done 216 out of 216 | elapsed: 44.1min finished\n"
     ]
    },
    {
     "data": {
      "text/plain": [
       "GridSearchCV(cv=None, error_score='raise',\n",
       "       estimator=KNeighborsClassifier(algorithm='auto', leaf_size=30, metric='minkowski',\n",
       "           metric_params=None, n_jobs=1, n_neighbors=5, p=2,\n",
       "           weights='uniform'),\n",
       "       fit_params={}, iid=True, n_jobs=2,\n",
       "       param_grid={'n_neighbors': [4, 5, 6, 10, 15, 20], 'weights': ['uniform', 'distance'], 'leaf_size': [20, 30, 40], 'p': [1, 2], 'metric': ['minkowski']},\n",
       "       pre_dispatch='2*n_jobs', refit=True, return_train_score=True,\n",
       "       scoring=None, verbose=2)"
      ]
     },
     "execution_count": 141,
     "metadata": {},
     "output_type": "execute_result"
    }
   ],
   "source": [
    "GS_KNN.fit(X_train, y_train)"
   ]
  },
  {
   "cell_type": "code",
   "execution_count": 145,
   "metadata": {},
   "outputs": [
    {
     "data": {
      "text/plain": [
       "0.70369731965870896"
      ]
     },
     "execution_count": 145,
     "metadata": {},
     "output_type": "execute_result"
    }
   ],
   "source": [
    "GS_KNN.score(X_train, y_train)"
   ]
  },
  {
   "cell_type": "code",
   "execution_count": 143,
   "metadata": {},
   "outputs": [
    {
     "data": {
      "text/plain": [
       "0.67269906928645296"
      ]
     },
     "execution_count": 143,
     "metadata": {},
     "output_type": "execute_result"
    }
   ],
   "source": [
    "GS_KNN.score(X_test, y_test)"
   ]
  },
  {
   "cell_type": "code",
   "execution_count": 146,
   "metadata": {},
   "outputs": [
    {
     "data": {
      "text/plain": [
       "{'leaf_size': 40,\n",
       " 'metric': 'minkowski',\n",
       " 'n_neighbors': 20,\n",
       " 'p': 1,\n",
       " 'weights': 'uniform'}"
      ]
     },
     "execution_count": 146,
     "metadata": {},
     "output_type": "execute_result"
    }
   ],
   "source": [
    "GS_KNN.best_params_"
   ]
  },
  {
   "cell_type": "code",
   "execution_count": 150,
   "metadata": {
    "collapsed": true
   },
   "outputs": [],
   "source": [
    "model = KNeighborsClassifier(n_neighbors=20, leaf_size=40, p=1)"
   ]
  },
  {
   "cell_type": "code",
   "execution_count": 151,
   "metadata": {},
   "outputs": [
    {
     "data": {
      "text/plain": [
       "KNeighborsClassifier(algorithm='auto', leaf_size=40, metric='minkowski',\n",
       "           metric_params=None, n_jobs=1, n_neighbors=20, p=1,\n",
       "           weights='uniform')"
      ]
     },
     "execution_count": 151,
     "metadata": {},
     "output_type": "execute_result"
    }
   ],
   "source": [
    "model.fit(X_train, y_train)"
   ]
  },
  {
   "cell_type": "code",
   "execution_count": 152,
   "metadata": {},
   "outputs": [
    {
     "data": {
      "text/plain": [
       "0.70369731965870896"
      ]
     },
     "execution_count": 152,
     "metadata": {},
     "output_type": "execute_result"
    }
   ],
   "source": [
    "model.score(X_train, y_train)"
   ]
  },
  {
   "cell_type": "code",
   "execution_count": 153,
   "metadata": {},
   "outputs": [
    {
     "data": {
      "text/plain": [
       "0.67269906928645296"
      ]
     },
     "execution_count": 153,
     "metadata": {},
     "output_type": "execute_result"
    }
   ],
   "source": [
    "model.score(X_test, y_test)"
   ]
  },
  {
   "cell_type": "code",
   "execution_count": 154,
   "metadata": {
    "collapsed": true
   },
   "outputs": [],
   "source": [
    "rfc_params = {\n",
    "        'n_estimators': [10, 20, 30, 40, 50, 60, 70, 80, 90, 100, 110, 120],\n",
    "        'max_depth': [12, 13, 14, 15, 16],\n",
    "        'criterion': ['gini'],\n",
    "        'min_samples_split': [2, 3],\n",
    "        'min_samples_leaf': [1, 2, 3]\n",
    "}"
   ]
  },
  {
   "cell_type": "code",
   "execution_count": 155,
   "metadata": {
    "collapsed": true
   },
   "outputs": [],
   "source": [
    "GS_RFC = GridSearchCV(RandomForestClassifier(), param_grid=rfc_params, n_jobs=2, verbose=1)"
   ]
  },
  {
   "cell_type": "code",
   "execution_count": 156,
   "metadata": {},
   "outputs": [
    {
     "name": "stdout",
     "output_type": "stream",
     "text": [
      "Fitting 3 folds for each of 360 candidates, totalling 1080 fits\n"
     ]
    },
    {
     "name": "stderr",
     "output_type": "stream",
     "text": [
      "[Parallel(n_jobs=2)]: Done  46 tasks      | elapsed:   11.9s\n",
      "[Parallel(n_jobs=2)]: Done 196 tasks      | elapsed:   52.8s\n",
      "[Parallel(n_jobs=2)]: Done 446 tasks      | elapsed:  2.1min\n",
      "[Parallel(n_jobs=2)]: Done 796 tasks      | elapsed:  3.9min\n",
      "[Parallel(n_jobs=2)]: Done 1080 out of 1080 | elapsed:  5.5min finished\n"
     ]
    },
    {
     "data": {
      "text/plain": [
       "GridSearchCV(cv=None, error_score='raise',\n",
       "       estimator=RandomForestClassifier(bootstrap=True, class_weight=None, criterion='gini',\n",
       "            max_depth=None, max_features='auto', max_leaf_nodes=None,\n",
       "            min_impurity_split=1e-07, min_samples_leaf=1,\n",
       "            min_samples_split=2, min_weight_fraction_leaf=0.0,\n",
       "            n_estimators=10, n_jobs=1, oob_score=False, random_state=None,\n",
       "            verbose=0, warm_start=False),\n",
       "       fit_params={}, iid=True, n_jobs=2,\n",
       "       param_grid={'n_estimators': [10, 20, 30, 40, 50, 60, 70, 80, 90, 100, 110, 120], 'max_depth': [12, 13, 14, 15, 16], 'criterion': ['gini'], 'min_samples_split': [2, 3], 'min_samples_leaf': [1, 2, 3]},\n",
       "       pre_dispatch='2*n_jobs', refit=True, return_train_score=True,\n",
       "       scoring=None, verbose=1)"
      ]
     },
     "execution_count": 156,
     "metadata": {},
     "output_type": "execute_result"
    }
   ],
   "source": [
    "GS_RFC.fit(X_train, y_train)"
   ]
  },
  {
   "cell_type": "code",
   "execution_count": 157,
   "metadata": {},
   "outputs": [
    {
     "data": {
      "text/plain": [
       "0.71119538050504183"
      ]
     },
     "execution_count": 157,
     "metadata": {},
     "output_type": "execute_result"
    }
   ],
   "source": [
    "GS_RFC.score(X_train, y_train)"
   ]
  },
  {
   "cell_type": "code",
   "execution_count": 158,
   "metadata": {},
   "outputs": [
    {
     "data": {
      "text/plain": [
       "0.68872802481902795"
      ]
     },
     "execution_count": 158,
     "metadata": {},
     "output_type": "execute_result"
    }
   ],
   "source": [
    "GS_RFC.score(X_test, y_test) "
   ]
  },
  {
   "cell_type": "code",
   "execution_count": 159,
   "metadata": {},
   "outputs": [
    {
     "data": {
      "text/plain": [
       "{'criterion': 'gini',\n",
       " 'max_depth': 16,\n",
       " 'min_samples_leaf': 1,\n",
       " 'min_samples_split': 2,\n",
       " 'n_estimators': 100}"
      ]
     },
     "execution_count": 159,
     "metadata": {},
     "output_type": "execute_result"
    }
   ],
   "source": [
    "GS_RFC.best_params_"
   ]
  },
  {
   "cell_type": "markdown",
   "metadata": {},
   "source": [
    "These models each had similar accuracy, but I had more consistency with the Random Forest\n",
    "                             "
   ]
  },
  {
   "cell_type": "code",
   "execution_count": null,
   "metadata": {
    "collapsed": true
   },
   "outputs": [],
   "source": []
  }
 ],
 "metadata": {
  "kernelspec": {
   "display_name": "Python 3",
   "language": "python",
   "name": "python3"
  },
  "language_info": {
   "codemirror_mode": {
    "name": "ipython",
    "version": 3
   },
   "file_extension": ".py",
   "mimetype": "text/x-python",
   "name": "python",
   "nbconvert_exporter": "python",
   "pygments_lexer": "ipython3",
   "version": "3.6.1"
  }
 },
 "nbformat": 4,
 "nbformat_minor": 2
}
