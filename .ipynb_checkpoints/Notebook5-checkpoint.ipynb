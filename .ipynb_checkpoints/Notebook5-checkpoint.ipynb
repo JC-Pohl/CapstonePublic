{
 "cells": [
  {
   "cell_type": "code",
   "execution_count": 1,
   "metadata": {
    "collapsed": true
   },
   "outputs": [],
   "source": [
    "import pandas as pd\n",
    "import numpy as np\n",
    "from sklearn.model_selection import train_test_split\n",
    "from sklearn.neighbors import KNeighborsClassifier\n",
    "from sklearn.preprocessing import OneHotEncoder"
   ]
  },
  {
   "cell_type": "code",
   "execution_count": 2,
   "metadata": {
    "collapsed": true
   },
   "outputs": [],
   "source": [
    "df = pd.read_csv('SCDB_Legacy_04_caseCentered_Citation.csv', encoding='ISO 8859-1', dtype='object')\n"
   ]
  },
  {
   "cell_type": "code",
   "execution_count": 3,
   "metadata": {
    "collapsed": true
   },
   "outputs": [],
   "source": [
    "df_20_century = df[df.term.astype(int) > 1920]"
   ]
  },
  {
   "cell_type": "code",
   "execution_count": 4,
   "metadata": {
    "collapsed": true
   },
   "outputs": [],
   "source": [
    "df_modern_train = pd.read_csv('xcase_level_train_set_mod.csv', encoding='ISO 8859-1', dtype='object') "
   ]
  },
  {
   "cell_type": "code",
   "execution_count": 5,
   "metadata": {
    "collapsed": true
   },
   "outputs": [],
   "source": [
    "df_train = pd.concat([df_20_century, df_modern_train])"
   ]
  },
  {
   "cell_type": "code",
   "execution_count": 6,
   "metadata": {
    "collapsed": true
   },
   "outputs": [],
   "source": [
    "df_train = df_train.iloc[:, 1:]"
   ]
  },
  {
   "cell_type": "code",
   "execution_count": 7,
   "metadata": {},
   "outputs": [
    {
     "data": {
      "text/html": [
       "<div>\n",
       "<style>\n",
       "    .dataframe thead tr:only-child th {\n",
       "        text-align: right;\n",
       "    }\n",
       "\n",
       "    .dataframe thead th {\n",
       "        text-align: left;\n",
       "    }\n",
       "\n",
       "    .dataframe tbody tr th {\n",
       "        vertical-align: top;\n",
       "    }\n",
       "</style>\n",
       "<table border=\"1\" class=\"dataframe\">\n",
       "  <thead>\n",
       "    <tr style=\"text-align: right;\">\n",
       "      <th></th>\n",
       "      <th>adminAction</th>\n",
       "      <th>adminActionState</th>\n",
       "      <th>authorityDecision1</th>\n",
       "      <th>authorityDecision2</th>\n",
       "      <th>caseDisposition</th>\n",
       "      <th>caseDispositionUnusual</th>\n",
       "      <th>caseId</th>\n",
       "      <th>caseIssuesId</th>\n",
       "      <th>caseName</th>\n",
       "      <th>caseOrigin</th>\n",
       "      <th>...</th>\n",
       "      <th>precedentAlteration</th>\n",
       "      <th>respondent</th>\n",
       "      <th>respondentState</th>\n",
       "      <th>sctCite</th>\n",
       "      <th>splitVote</th>\n",
       "      <th>term</th>\n",
       "      <th>threeJudgeFdc</th>\n",
       "      <th>usCite</th>\n",
       "      <th>voteId</th>\n",
       "      <th>voteUnclear</th>\n",
       "    </tr>\n",
       "  </thead>\n",
       "  <tbody>\n",
       "    <tr>\n",
       "      <th>19080</th>\n",
       "      <td>69</td>\n",
       "      <td>NaN</td>\n",
       "      <td>4</td>\n",
       "      <td>NaN</td>\n",
       "      <td>3</td>\n",
       "      <td>0</td>\n",
       "      <td>1941-001</td>\n",
       "      <td>1941-001-01-01</td>\n",
       "      <td>HELVERING, COMMISSIONER OF INTERNAL REVENUE v....</td>\n",
       "      <td>22</td>\n",
       "      <td>...</td>\n",
       "      <td>0</td>\n",
       "      <td>240</td>\n",
       "      <td>NaN</td>\n",
       "      <td>62 S. Ct. 341</td>\n",
       "      <td>1</td>\n",
       "      <td>1941</td>\n",
       "      <td>0</td>\n",
       "      <td>314 U.S. 463</td>\n",
       "      <td>1941-001-01-01-01</td>\n",
       "      <td>0</td>\n",
       "    </tr>\n",
       "    <tr>\n",
       "      <th>19081</th>\n",
       "      <td>NaN</td>\n",
       "      <td>NaN</td>\n",
       "      <td>3</td>\n",
       "      <td>NaN</td>\n",
       "      <td>2</td>\n",
       "      <td>0</td>\n",
       "      <td>1941-002</td>\n",
       "      <td>1941-002-01-01</td>\n",
       "      <td>BALTIMORE &amp; OHIO RAILROAD CO. v. KEPNER</td>\n",
       "      <td>302</td>\n",
       "      <td>...</td>\n",
       "      <td>0</td>\n",
       "      <td>145</td>\n",
       "      <td>NaN</td>\n",
       "      <td>62 S. Ct. 6</td>\n",
       "      <td>1</td>\n",
       "      <td>1941</td>\n",
       "      <td>0</td>\n",
       "      <td>314 U.S. 44</td>\n",
       "      <td>1941-002-01-01-01</td>\n",
       "      <td>0</td>\n",
       "    </tr>\n",
       "    <tr>\n",
       "      <th>19082</th>\n",
       "      <td>26</td>\n",
       "      <td>NaN</td>\n",
       "      <td>3</td>\n",
       "      <td>NaN</td>\n",
       "      <td>3</td>\n",
       "      <td>0</td>\n",
       "      <td>1941-003</td>\n",
       "      <td>1941-003-01-01</td>\n",
       "      <td>GRAY, DIRECTOR OF THE BITUMINOUS COAL DIVISION...</td>\n",
       "      <td>24</td>\n",
       "      <td>...</td>\n",
       "      <td>0</td>\n",
       "      <td>231</td>\n",
       "      <td>NaN</td>\n",
       "      <td>62 S. Ct. 326</td>\n",
       "      <td>1</td>\n",
       "      <td>1941</td>\n",
       "      <td>0</td>\n",
       "      <td>314 U.S. 402</td>\n",
       "      <td>1941-003-01-01-01</td>\n",
       "      <td>0</td>\n",
       "    </tr>\n",
       "    <tr>\n",
       "      <th>19083</th>\n",
       "      <td>NaN</td>\n",
       "      <td>NaN</td>\n",
       "      <td>2</td>\n",
       "      <td>NaN</td>\n",
       "      <td>2</td>\n",
       "      <td>0</td>\n",
       "      <td>1941-004</td>\n",
       "      <td>1941-004-01-01</td>\n",
       "      <td>BRIDGES v. CALIFORNIA</td>\n",
       "      <td>302</td>\n",
       "      <td>...</td>\n",
       "      <td>0</td>\n",
       "      <td>28</td>\n",
       "      <td>6</td>\n",
       "      <td>62 S. Ct. 190</td>\n",
       "      <td>1</td>\n",
       "      <td>1941</td>\n",
       "      <td>0</td>\n",
       "      <td>314 U.S. 252</td>\n",
       "      <td>1941-004-01-01-01</td>\n",
       "      <td>0</td>\n",
       "    </tr>\n",
       "    <tr>\n",
       "      <th>19084</th>\n",
       "      <td>NaN</td>\n",
       "      <td>NaN</td>\n",
       "      <td>3</td>\n",
       "      <td>NaN</td>\n",
       "      <td>3</td>\n",
       "      <td>0</td>\n",
       "      <td>1941-005</td>\n",
       "      <td>1941-005-01-01</td>\n",
       "      <td>AMERICAN SURETY COMPANY OF NEW YORK v. BETHLEH...</td>\n",
       "      <td>109</td>\n",
       "      <td>...</td>\n",
       "      <td>0</td>\n",
       "      <td>114</td>\n",
       "      <td>NaN</td>\n",
       "      <td>62 S. Ct. 226</td>\n",
       "      <td>1</td>\n",
       "      <td>1941</td>\n",
       "      <td>0</td>\n",
       "      <td>314 U.S. 314</td>\n",
       "      <td>1941-005-01-01-01</td>\n",
       "      <td>0</td>\n",
       "    </tr>\n",
       "  </tbody>\n",
       "</table>\n",
       "<p>5 rows × 53 columns</p>\n",
       "</div>"
      ],
      "text/plain": [
       "      adminAction adminActionState authorityDecision1 authorityDecision2  \\\n",
       "19080          69              NaN                  4                NaN   \n",
       "19081         NaN              NaN                  3                NaN   \n",
       "19082          26              NaN                  3                NaN   \n",
       "19083         NaN              NaN                  2                NaN   \n",
       "19084         NaN              NaN                  3                NaN   \n",
       "\n",
       "      caseDisposition caseDispositionUnusual    caseId    caseIssuesId  \\\n",
       "19080               3                      0  1941-001  1941-001-01-01   \n",
       "19081               2                      0  1941-002  1941-002-01-01   \n",
       "19082               3                      0  1941-003  1941-003-01-01   \n",
       "19083               2                      0  1941-004  1941-004-01-01   \n",
       "19084               3                      0  1941-005  1941-005-01-01   \n",
       "\n",
       "                                                caseName caseOrigin  \\\n",
       "19080  HELVERING, COMMISSIONER OF INTERNAL REVENUE v....         22   \n",
       "19081            BALTIMORE & OHIO RAILROAD CO. v. KEPNER        302   \n",
       "19082  GRAY, DIRECTOR OF THE BITUMINOUS COAL DIVISION...         24   \n",
       "19083                              BRIDGES v. CALIFORNIA        302   \n",
       "19084  AMERICAN SURETY COMPANY OF NEW YORK v. BETHLEH...        109   \n",
       "\n",
       "          ...     precedentAlteration respondent respondentState  \\\n",
       "19080     ...                       0        240             NaN   \n",
       "19081     ...                       0        145             NaN   \n",
       "19082     ...                       0        231             NaN   \n",
       "19083     ...                       0         28               6   \n",
       "19084     ...                       0        114             NaN   \n",
       "\n",
       "             sctCite splitVote  term threeJudgeFdc        usCite  \\\n",
       "19080  62 S. Ct. 341         1  1941             0  314 U.S. 463   \n",
       "19081    62 S. Ct. 6         1  1941             0   314 U.S. 44   \n",
       "19082  62 S. Ct. 326         1  1941             0  314 U.S. 402   \n",
       "19083  62 S. Ct. 190         1  1941             0  314 U.S. 252   \n",
       "19084  62 S. Ct. 226         1  1941             0  314 U.S. 314   \n",
       "\n",
       "                  voteId voteUnclear  \n",
       "19080  1941-001-01-01-01           0  \n",
       "19081  1941-002-01-01-01           0  \n",
       "19082  1941-003-01-01-01           0  \n",
       "19083  1941-004-01-01-01           0  \n",
       "19084  1941-005-01-01-01           0  \n",
       "\n",
       "[5 rows x 53 columns]"
      ]
     },
     "execution_count": 7,
     "metadata": {},
     "output_type": "execute_result"
    }
   ],
   "source": [
    "df_train.head()"
   ]
  },
  {
   "cell_type": "code",
   "execution_count": 8,
   "metadata": {
    "collapsed": true
   },
   "outputs": [],
   "source": [
    "df_train.to_csv(\"after1920_train.csv\")"
   ]
  },
  {
   "cell_type": "code",
   "execution_count": null,
   "metadata": {
    "collapsed": true
   },
   "outputs": [],
   "source": []
  }
 ],
 "metadata": {
  "kernelspec": {
   "display_name": "Python 3",
   "language": "python",
   "name": "python3"
  },
  "language_info": {
   "codemirror_mode": {
    "name": "ipython",
    "version": 3
   },
   "file_extension": ".py",
   "mimetype": "text/x-python",
   "name": "python",
   "nbconvert_exporter": "python",
   "pygments_lexer": "ipython3",
   "version": "3.6.1"
  }
 },
 "nbformat": 4,
 "nbformat_minor": 2
}
