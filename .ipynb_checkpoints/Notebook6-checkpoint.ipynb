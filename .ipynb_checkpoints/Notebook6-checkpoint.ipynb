{
 "cells": [
  {
   "cell_type": "code",
   "execution_count": 3,
   "metadata": {
    "collapsed": true
   },
   "outputs": [],
   "source": [
    "import pandas as pd\n",
    "import numpy as np\n",
    "from sklearn.model_selection import train_test_split, GridSearchCV, cross_val_score\n",
    "from sklearn.neighbors import KNeighborsClassifier\n",
    "from sklearn.preprocessing import OneHotEncoder\n",
    "from sklearn.ensemble import RandomForestClassifier, AdaBoostClassifier, GradientBoostingClassifier\n",
    "from sklearn.linear_model import LogisticRegression"
   ]
  },
  {
   "cell_type": "code",
   "execution_count": 4,
   "metadata": {
    "collapsed": true
   },
   "outputs": [],
   "source": [
    "df_train = pd.read_csv('case_level_train_set.csv', encoding='ISO 8859-1', dtype='object', index_col=0)"
   ]
  },
  {
   "cell_type": "code",
   "execution_count": 5,
   "metadata": {},
   "outputs": [
    {
     "data": {
      "text/plain": [
       "Index(['caseId', 'docketId', 'caseIssuesId', 'voteId', 'dateDecision',\n",
       "       'decisionType', 'usCite', 'sctCite', 'ledCite', 'lexisCite', 'term',\n",
       "       'naturalCourt', 'chief', 'docket', 'caseName', 'dateArgument',\n",
       "       'dateRearg', 'petitioner', 'petitionerState', 'respondent',\n",
       "       'respondentState', 'jurisdiction', 'adminAction', 'adminActionState',\n",
       "       'threeJudgeFdc', 'caseOrigin', 'caseOriginState', 'caseSource',\n",
       "       'caseSourceState', 'lcDisagreement', 'certReason', 'lcDisposition',\n",
       "       'lcDispositionDirection', 'declarationUncon', 'caseDisposition',\n",
       "       'caseDispositionUnusual', 'partyWinning', 'precedentAlteration',\n",
       "       'voteUnclear', 'issue', 'issueArea', 'decisionDirection',\n",
       "       'decisionDirectionDissent', 'authorityDecision1', 'authorityDecision2',\n",
       "       'lawType', 'lawSupp', 'lawMinor', 'majOpinWriter', 'majOpinAssigner',\n",
       "       'splitVote', 'majVotes', 'minVotes'],\n",
       "      dtype='object')"
      ]
     },
     "execution_count": 5,
     "metadata": {},
     "output_type": "execute_result"
    }
   ],
   "source": [
    "df_train.columns"
   ]
  },
  {
   "cell_type": "code",
   "execution_count": 6,
   "metadata": {},
   "outputs": [
    {
     "data": {
      "text/plain": [
       "count     22918\n",
       "unique        2\n",
       "top           0\n",
       "freq      20721\n",
       "Name: lcDisagreement, dtype: object"
      ]
     },
     "execution_count": 6,
     "metadata": {},
     "output_type": "execute_result"
    }
   ],
   "source": [
    "df_train.lcDisagreement.describe()"
   ]
  },
  {
   "cell_type": "code",
   "execution_count": 7,
   "metadata": {
    "collapsed": true
   },
   "outputs": [],
   "source": [
    "dropcols = ['docketId', 'caseIssuesId', 'voteId', 'dateDecision',\n",
    "       'decisionType', 'usCite', 'sctCite', 'ledCite', 'lexisCite', 'term', 'chief', 'docket', 'caseName', 'dateArgument',\n",
    "       'dateRearg', 'petitionerState', \n",
    "       'respondentState', 'adminAction', 'adminActionState', 'caseOriginState', 'threeJudgeFdc',\n",
    "       'caseSourceState', 'declarationUncon', 'caseDisposition',\n",
    "       'caseDispositionUnusual', 'partyWinning', 'precedentAlteration',\n",
    "       'voteUnclear', 'issue', 'lcDisposition',\n",
    "       'decisionDirectionDissent', 'authorityDecision1', 'authorityDecision2',\n",
    "       'lawType', 'lawSupp', 'lawMinor', 'majOpinWriter', 'majOpinAssigner',\n",
    "       'splitVote', 'majVotes', 'minVotes']\n",
    "\n",
    "for col in dropcols:\n",
    "    df_train.drop(col, axis=1, inplace=True)\n",
    "\n",
    "\n"
   ]
  },
  {
   "cell_type": "code",
   "execution_count": 8,
   "metadata": {},
   "outputs": [
    {
     "name": "stdout",
     "output_type": "stream",
     "text": [
      "<class 'pandas.core.frame.DataFrame'>\n",
      "Int64Index: 22936 entries, 0 to 19860\n",
      "Data columns (total 12 columns):\n",
      "caseId                    22936 non-null object\n",
      "naturalCourt              22936 non-null object\n",
      "petitioner                22934 non-null object\n",
      "respondent                22932 non-null object\n",
      "jurisdiction              22935 non-null object\n",
      "caseOrigin                22181 non-null object\n",
      "caseSource                22494 non-null object\n",
      "lcDisagreement            22918 non-null object\n",
      "certReason                22872 non-null object\n",
      "lcDispositionDirection    21989 non-null object\n",
      "issueArea                 22840 non-null object\n",
      "decisionDirection         22859 non-null object\n",
      "dtypes: object(12)\n",
      "memory usage: 2.3+ MB\n"
     ]
    }
   ],
   "source": [
    "df_train.info()"
   ]
  },
  {
   "cell_type": "code",
   "execution_count": 9,
   "metadata": {
    "collapsed": true
   },
   "outputs": [],
   "source": [
    "df_train.dropna(axis=0, inplace=True)"
   ]
  },
  {
   "cell_type": "code",
   "execution_count": 10,
   "metadata": {
    "scrolled": true
   },
   "outputs": [
    {
     "data": {
      "text/plain": [
       "Index(['caseId', 'naturalCourt', 'petitioner', 'respondent', 'jurisdiction',\n",
       "       'caseOrigin', 'caseSource', 'lcDisagreement', 'certReason',\n",
       "       'lcDispositionDirection', 'issueArea', 'decisionDirection'],\n",
       "      dtype='object')"
      ]
     },
     "execution_count": 10,
     "metadata": {},
     "output_type": "execute_result"
    }
   ],
   "source": [
    "df_train.columns"
   ]
  },
  {
   "cell_type": "code",
   "execution_count": 11,
   "metadata": {
    "collapsed": true
   },
   "outputs": [],
   "source": [
    "target = 'decisionDirection'\n",
    "y_train = df_train[target]\n",
    "X_train = df_train[[col for col in df_train.columns if col != target]]"
   ]
  },
  {
   "cell_type": "code",
   "execution_count": 12,
   "metadata": {},
   "outputs": [
    {
     "data": {
      "text/html": [
       "<div>\n",
       "<style>\n",
       "    .dataframe thead tr:only-child th {\n",
       "        text-align: right;\n",
       "    }\n",
       "\n",
       "    .dataframe thead th {\n",
       "        text-align: left;\n",
       "    }\n",
       "\n",
       "    .dataframe tbody tr th {\n",
       "        vertical-align: top;\n",
       "    }\n",
       "</style>\n",
       "<table border=\"1\" class=\"dataframe\">\n",
       "  <thead>\n",
       "    <tr style=\"text-align: right;\">\n",
       "      <th></th>\n",
       "      <th>caseId</th>\n",
       "      <th>naturalCourt</th>\n",
       "      <th>petitioner</th>\n",
       "      <th>respondent</th>\n",
       "      <th>jurisdiction</th>\n",
       "      <th>caseOrigin</th>\n",
       "      <th>caseSource</th>\n",
       "      <th>lcDisagreement</th>\n",
       "      <th>certReason</th>\n",
       "      <th>lcDispositionDirection</th>\n",
       "      <th>issueArea</th>\n",
       "    </tr>\n",
       "  </thead>\n",
       "  <tbody>\n",
       "    <tr>\n",
       "      <th>0</th>\n",
       "      <td>1946-001</td>\n",
       "      <td>1301</td>\n",
       "      <td>198</td>\n",
       "      <td>172</td>\n",
       "      <td>6</td>\n",
       "      <td>51</td>\n",
       "      <td>29</td>\n",
       "      <td>0</td>\n",
       "      <td>11</td>\n",
       "      <td>1</td>\n",
       "      <td>8</td>\n",
       "    </tr>\n",
       "    <tr>\n",
       "      <th>1</th>\n",
       "      <td>1946-002</td>\n",
       "      <td>1301</td>\n",
       "      <td>100</td>\n",
       "      <td>27</td>\n",
       "      <td>1</td>\n",
       "      <td>123</td>\n",
       "      <td>30</td>\n",
       "      <td>0</td>\n",
       "      <td>4</td>\n",
       "      <td>1</td>\n",
       "      <td>1</td>\n",
       "    </tr>\n",
       "    <tr>\n",
       "      <th>2</th>\n",
       "      <td>1946-003</td>\n",
       "      <td>1301</td>\n",
       "      <td>209</td>\n",
       "      <td>27</td>\n",
       "      <td>2</td>\n",
       "      <td>107</td>\n",
       "      <td>107</td>\n",
       "      <td>0</td>\n",
       "      <td>1</td>\n",
       "      <td>2</td>\n",
       "      <td>8</td>\n",
       "    </tr>\n",
       "    <tr>\n",
       "      <th>3</th>\n",
       "      <td>1946-004</td>\n",
       "      <td>1301</td>\n",
       "      <td>27</td>\n",
       "      <td>170</td>\n",
       "      <td>1</td>\n",
       "      <td>3</td>\n",
       "      <td>3</td>\n",
       "      <td>0</td>\n",
       "      <td>10</td>\n",
       "      <td>2</td>\n",
       "      <td>2</td>\n",
       "    </tr>\n",
       "    <tr>\n",
       "      <th>5</th>\n",
       "      <td>1946-006</td>\n",
       "      <td>1301</td>\n",
       "      <td>198</td>\n",
       "      <td>4</td>\n",
       "      <td>2</td>\n",
       "      <td>302</td>\n",
       "      <td>300</td>\n",
       "      <td>1</td>\n",
       "      <td>1</td>\n",
       "      <td>2</td>\n",
       "      <td>8</td>\n",
       "    </tr>\n",
       "  </tbody>\n",
       "</table>\n",
       "</div>"
      ],
      "text/plain": [
       "     caseId naturalCourt petitioner respondent jurisdiction caseOrigin  \\\n",
       "0  1946-001         1301        198        172            6         51   \n",
       "1  1946-002         1301        100         27            1        123   \n",
       "2  1946-003         1301        209         27            2        107   \n",
       "3  1946-004         1301         27        170            1          3   \n",
       "5  1946-006         1301        198          4            2        302   \n",
       "\n",
       "  caseSource lcDisagreement certReason lcDispositionDirection issueArea  \n",
       "0         29              0         11                      1         8  \n",
       "1         30              0          4                      1         1  \n",
       "2        107              0          1                      2         8  \n",
       "3          3              0         10                      2         2  \n",
       "5        300              1          1                      2         8  "
      ]
     },
     "execution_count": 12,
     "metadata": {},
     "output_type": "execute_result"
    }
   ],
   "source": [
    "X_train.head()"
   ]
  },
  {
   "cell_type": "code",
   "execution_count": 13,
   "metadata": {},
   "outputs": [
    {
     "data": {
      "text/html": [
       "<div>\n",
       "<style>\n",
       "    .dataframe thead tr:only-child th {\n",
       "        text-align: right;\n",
       "    }\n",
       "\n",
       "    .dataframe thead th {\n",
       "        text-align: left;\n",
       "    }\n",
       "\n",
       "    .dataframe tbody tr th {\n",
       "        vertical-align: top;\n",
       "    }\n",
       "</style>\n",
       "<table border=\"1\" class=\"dataframe\">\n",
       "  <thead>\n",
       "    <tr style=\"text-align: right;\">\n",
       "      <th></th>\n",
       "      <th>caseId</th>\n",
       "      <th>naturalCourt</th>\n",
       "      <th>petitioner</th>\n",
       "      <th>respondent</th>\n",
       "      <th>jurisdiction</th>\n",
       "      <th>caseOrigin</th>\n",
       "      <th>caseSource</th>\n",
       "      <th>lcDisagreement</th>\n",
       "      <th>certReason</th>\n",
       "      <th>lcDispositionDirection</th>\n",
       "      <th>issueArea</th>\n",
       "    </tr>\n",
       "  </thead>\n",
       "  <tbody>\n",
       "    <tr>\n",
       "      <th>count</th>\n",
       "      <td>21575</td>\n",
       "      <td>21575</td>\n",
       "      <td>21575</td>\n",
       "      <td>21575</td>\n",
       "      <td>21575</td>\n",
       "      <td>21575</td>\n",
       "      <td>21575</td>\n",
       "      <td>21575</td>\n",
       "      <td>21575</td>\n",
       "      <td>21575</td>\n",
       "      <td>21575</td>\n",
       "    </tr>\n",
       "    <tr>\n",
       "      <th>unique</th>\n",
       "      <td>21575</td>\n",
       "      <td>105</td>\n",
       "      <td>263</td>\n",
       "      <td>253</td>\n",
       "      <td>12</td>\n",
       "      <td>203</td>\n",
       "      <td>186</td>\n",
       "      <td>2</td>\n",
       "      <td>13</td>\n",
       "      <td>3</td>\n",
       "      <td>14</td>\n",
       "    </tr>\n",
       "    <tr>\n",
       "      <th>top</th>\n",
       "      <td>1883-106</td>\n",
       "      <td>706</td>\n",
       "      <td>195</td>\n",
       "      <td>27</td>\n",
       "      <td>1</td>\n",
       "      <td>302</td>\n",
       "      <td>300</td>\n",
       "      <td>0</td>\n",
       "      <td>1</td>\n",
       "      <td>1</td>\n",
       "      <td>8</td>\n",
       "    </tr>\n",
       "    <tr>\n",
       "      <th>freq</th>\n",
       "      <td>1</td>\n",
       "      <td>1250</td>\n",
       "      <td>1915</td>\n",
       "      <td>2310</td>\n",
       "      <td>7875</td>\n",
       "      <td>4444</td>\n",
       "      <td>4021</td>\n",
       "      <td>19676</td>\n",
       "      <td>13729</td>\n",
       "      <td>9947</td>\n",
       "      <td>6471</td>\n",
       "    </tr>\n",
       "  </tbody>\n",
       "</table>\n",
       "</div>"
      ],
      "text/plain": [
       "          caseId naturalCourt petitioner respondent jurisdiction caseOrigin  \\\n",
       "count      21575        21575      21575      21575        21575      21575   \n",
       "unique     21575          105        263        253           12        203   \n",
       "top     1883-106          706        195         27            1        302   \n",
       "freq           1         1250       1915       2310         7875       4444   \n",
       "\n",
       "       caseSource lcDisagreement certReason lcDispositionDirection issueArea  \n",
       "count       21575          21575      21575                  21575     21575  \n",
       "unique        186              2         13                      3        14  \n",
       "top           300              0          1                      1         8  \n",
       "freq         4021          19676      13729                   9947      6471  "
      ]
     },
     "execution_count": 13,
     "metadata": {},
     "output_type": "execute_result"
    }
   ],
   "source": [
    "X_train.describe()"
   ]
  },
  {
   "cell_type": "code",
   "execution_count": 14,
   "metadata": {
    "collapsed": true
   },
   "outputs": [],
   "source": [
    "parties = pd.read_csv(\"codelist.csv\", index_col=None)\n",
    "parties = parties.applymap(lambda x: int(x))\n",
    "def party_categorizer(val):\n",
    "    if val in parties.State.values:\n",
    "        return '1'\n",
    "    elif val in parties.Federal.values:\n",
    "        return '2'\n",
    "    elif val in parties.Criminal.values:\n",
    "        return '3'\n",
    "    elif val in parties.Liberal.values:\n",
    "        return '4'\n",
    "    elif val in parties.RTY.values:\n",
    "        return '5'\n",
    "    elif val in parties.Finance.values:\n",
    "        return '6'\n",
    "    elif val in parties.Business.values:\n",
    "        return '7'\n",
    "    elif val in parties.Political.values:\n",
    "        return '8'\n",
    "    elif val in parties.famend.values:\n",
    "        return '9'\n",
    "    else:\n",
    "        return '10'\n",
    " \n",
    "\n",
    "def issue_consolidate(num):\n",
    "    if num == \"None\":\n",
    "        return '13'\n",
    "    if int(num) in [0, 3, 5, 6, 7, 11, 14]:\n",
    "        return '13'\n",
    "    else:\n",
    "        return str(num)"
   ]
  },
  {
   "cell_type": "code",
   "execution_count": 15,
   "metadata": {},
   "outputs": [
    {
     "name": "stderr",
     "output_type": "stream",
     "text": [
      "/Users/joshuapohl/anaconda/lib/python3.6/site-packages/pandas/core/generic.py:2999: SettingWithCopyWarning: \n",
      "A value is trying to be set on a copy of a slice from a DataFrame.\n",
      "Try using .loc[row_indexer,col_indexer] = value instead\n",
      "\n",
      "See the caveats in the documentation: http://pandas.pydata.org/pandas-docs/stable/indexing.html#indexing-view-versus-copy\n",
      "  self[name] = value\n"
     ]
    }
   ],
   "source": [
    "X_train.issueArea = X_train.issueArea.apply(lambda x: issue_consolidate(x))\n",
    "X_train.petitioner = X_train.petitioner.apply(lambda x: party_categorizer(int(x)))                                  \n",
    "X_train.respondent = X_train.respondent.apply(lambda x: party_categorizer(int(x)))\n",
    "X_train.jurisdiction = X_train.jurisdiction.apply(lambda x: '1' if x=='1' else '0')\n",
    "X_train.certReason = X_train.certReason.apply(lambda x: '1' if x == '1' or x == '12' else '0')\n",
    "X_train.lcDisagreement = X_train.lcDisagreement.apply(lambda x: 1 if x == '1' else 0)"
   ]
  },
  {
   "cell_type": "code",
   "execution_count": 16,
   "metadata": {},
   "outputs": [
    {
     "name": "stdout",
     "output_type": "stream",
     "text": [
      "<class 'pandas.core.frame.DataFrame'>\n",
      "Int64Index: 21575 entries, 0 to 19857\n",
      "Data columns (total 11 columns):\n",
      "caseId                    21575 non-null object\n",
      "naturalCourt              21575 non-null object\n",
      "petitioner                21575 non-null object\n",
      "respondent                21575 non-null object\n",
      "jurisdiction              21575 non-null object\n",
      "caseOrigin                21575 non-null object\n",
      "caseSource                21575 non-null object\n",
      "lcDisagreement            21575 non-null int64\n",
      "certReason                21575 non-null object\n",
      "lcDispositionDirection    21575 non-null object\n",
      "issueArea                 21575 non-null object\n",
      "dtypes: int64(1), object(10)\n",
      "memory usage: 2.0+ MB\n"
     ]
    }
   ],
   "source": [
    "X_train.info()"
   ]
  },
  {
   "cell_type": "code",
   "execution_count": 17,
   "metadata": {
    "collapsed": true
   },
   "outputs": [],
   "source": [
    "X_train_full = X_train\n",
    "X_train = X_train_full.iloc[:, 1:]"
   ]
  },
  {
   "cell_type": "code",
   "execution_count": 18,
   "metadata": {},
   "outputs": [
    {
     "name": "stdout",
     "output_type": "stream",
     "text": [
      "<class 'pandas.core.frame.DataFrame'>\n",
      "Int64Index: 21575 entries, 0 to 19857\n",
      "Data columns (total 10 columns):\n",
      "naturalCourt              21575 non-null object\n",
      "petitioner                21575 non-null object\n",
      "respondent                21575 non-null object\n",
      "jurisdiction              21575 non-null object\n",
      "caseOrigin                21575 non-null object\n",
      "caseSource                21575 non-null object\n",
      "lcDisagreement            21575 non-null int64\n",
      "certReason                21575 non-null object\n",
      "lcDispositionDirection    21575 non-null object\n",
      "issueArea                 21575 non-null object\n",
      "dtypes: int64(1), object(9)\n",
      "memory usage: 1.8+ MB\n"
     ]
    }
   ],
   "source": [
    "X_train.info()"
   ]
  },
  {
   "cell_type": "code",
   "execution_count": 19,
   "metadata": {
    "collapsed": true
   },
   "outputs": [],
   "source": [
    "ohc = OneHotEncoder(sparse=False)\n",
    "ohc.fit(X_train)\n",
    "X_train = ohc.transform(X_train)\n"
   ]
  },
  {
   "cell_type": "code",
   "execution_count": 20,
   "metadata": {
    "collapsed": true
   },
   "outputs": [],
   "source": [
    "from sklearn.svm import SVC\n",
    "from sklearn.model_selection import cross_val_score\n",
    "\n",
    "lin_model = SVC(kernel='linear')\n",
    "\n",
    "scores = cross_val_score(lin_model, X_train, y_train, cv=5)\n",
    "sm = scores.mean()\n",
    "ss = scores.std()"
   ]
  },
  {
   "cell_type": "code",
   "execution_count": 21,
   "metadata": {},
   "outputs": [
    {
     "name": "stdout",
     "output_type": "stream",
     "text": [
      "0.54027413081 0.0682070148124\n"
     ]
    }
   ],
   "source": [
    "print(sm, ss)"
   ]
  },
  {
   "cell_type": "code",
   "execution_count": null,
   "metadata": {
    "collapsed": true
   },
   "outputs": [],
   "source": []
  },
  {
   "cell_type": "code",
   "execution_count": 23,
   "metadata": {
    "scrolled": true
   },
   "outputs": [
    {
     "data": {
      "text/plain": [
       "SVC(C=1.0, cache_size=200, class_weight=None, coef0=0.0,\n",
       "  decision_function_shape=None, degree=3, gamma='auto', kernel='linear',\n",
       "  max_iter=-1, probability=False, random_state=None, shrinking=True,\n",
       "  tol=0.001, verbose=False)"
      ]
     },
     "execution_count": 23,
     "metadata": {},
     "output_type": "execute_result"
    }
   ],
   "source": [
    "lin_model.fit(X_train, y_train)"
   ]
  },
  {
   "cell_type": "code",
   "execution_count": 25,
   "metadata": {},
   "outputs": [
    {
     "name": "stderr",
     "output_type": "stream",
     "text": [
      "/Users/joshuapohl/anaconda/lib/python3.6/site-packages/pandas/core/generic.py:2999: SettingWithCopyWarning: \n",
      "A value is trying to be set on a copy of a slice from a DataFrame.\n",
      "Try using .loc[row_indexer,col_indexer] = value instead\n",
      "\n",
      "See the caveats in the documentation: http://pandas.pydata.org/pandas-docs/stable/indexing.html#indexing-view-versus-copy\n",
      "  self[name] = value\n"
     ]
    }
   ],
   "source": [
    "df_test = pd.read_csv('case_level_test_set.csv', encoding='ISO 8859-1', dtype='object', index_col=0)\n",
    "for col in dropcols:\n",
    "    df_test.drop(col, axis=1, inplace=True)\n",
    "df_test.dropna(axis=0, inplace=True)\n",
    "y_test = df_test[target]\n",
    "X_test = df_test[[col for col in df_test.columns if col != target]]\n",
    "X_test.issueArea = X_test.issueArea.apply(lambda x: issue_consolidate(x))\n",
    "X_test.petitioner = X_test.petitioner.apply(lambda x: party_categorizer(int(x)))                                  \n",
    "X_test.respondent = X_test.respondent.apply(lambda x: party_categorizer(int(x)))\n",
    "X_test.jurisdiction = X_test.jurisdiction.apply(lambda x: '1' if x=='1' else '0')\n",
    "X_test.certReason = X_test.certReason.apply(lambda x: '1' if x == '1' or x == '12' else '0')\n",
    "X_test_full = X_test\n",
    "X_test = X_test_full.iloc[:, 1:]\n",
    "X_test = ohc.transform(X_test)"
   ]
  },
  {
   "cell_type": "code",
   "execution_count": 26,
   "metadata": {},
   "outputs": [
    {
     "data": {
      "text/plain": [
       "0.65517241379310343"
      ]
     },
     "execution_count": 26,
     "metadata": {},
     "output_type": "execute_result"
    }
   ],
   "source": [
    "lin_model.score(X_test, y_test)"
   ]
  },
  {
   "cell_type": "code",
   "execution_count": null,
   "metadata": {
    "collapsed": true
   },
   "outputs": [],
   "source": []
  }
 ],
 "metadata": {
  "kernelspec": {
   "display_name": "Python 3",
   "language": "python",
   "name": "python3"
  },
  "language_info": {
   "codemirror_mode": {
    "name": "ipython",
    "version": 3
   },
   "file_extension": ".py",
   "mimetype": "text/x-python",
   "name": "python",
   "nbconvert_exporter": "python",
   "pygments_lexer": "ipython3",
   "version": "3.6.1"
  }
 },
 "nbformat": 4,
 "nbformat_minor": 2
}
